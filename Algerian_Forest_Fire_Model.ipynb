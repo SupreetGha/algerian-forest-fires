{
 "cells": [
  {
   "cell_type": "code",
   "execution_count": 1,
   "id": "87f47955-e1d6-40b4-bfcc-c94771c88579",
   "metadata": {},
   "outputs": [],
   "source": [
    "import pandas as pd\n",
    "import matplotlib.pyplot as plt\n",
    "import numpy as np\n",
    "import seaborn as sns\n",
    "from sklearn.model_selection import RandomizedSearchCV, GridSearchCV\n",
    "from sklearn.preprocessing import StandardScaler\n",
    "from sklearn.model_selection import train_test_split\n",
    "from sklearn.ensemble import RandomForestClassifier\n",
    "from sklearn.tree import DecisionTreeClassifier\n",
    "%matplotlib inline"
   ]
  },
  {
   "cell_type": "code",
   "execution_count": 2,
   "id": "331cac56-342b-4a9e-804c-d02c4cb78e52",
   "metadata": {},
   "outputs": [
    {
     "data": {
      "text/plain": [
       "Index(['day', 'month', 'year', 'Temperature', 'RH', 'Ws', 'Rain', 'FFMC',\n",
       "       'DMC', 'DC', 'ISI', 'BUI', 'FWI', 'Classes', 'Region'],\n",
       "      dtype='object')"
      ]
     },
     "execution_count": 2,
     "metadata": {},
     "output_type": "execute_result"
    }
   ],
   "source": [
    "df = pd.read_csv('Alergian_forest_fires_mine.csv')\n",
    "df.columns"
   ]
  },
  {
   "cell_type": "code",
   "execution_count": 3,
   "id": "2c037b8c-4913-4491-a657-d714e5e1ada8",
   "metadata": {},
   "outputs": [],
   "source": [
    "df.drop(['day', 'month', 'year'], axis=1, inplace=True)\n"
   ]
  },
  {
   "cell_type": "code",
   "execution_count": 4,
   "id": "58b46bd2-69b2-4449-8be5-27fcf0ee856a",
   "metadata": {},
   "outputs": [],
   "source": [
    "df['Classes'] = np.where(df['Classes'] == 'not fire', 0,1)\n"
   ]
  },
  {
   "cell_type": "code",
   "execution_count": 5,
   "id": "b767864d-6f15-47aa-a7f1-a5db305b2a0e",
   "metadata": {},
   "outputs": [],
   "source": [
    "X = df.drop('FWI', axis=1)\n",
    "y = df['FWI']"
   ]
  },
  {
   "cell_type": "code",
   "execution_count": 6,
   "id": "2dd28aad-a130-4d29-8616-065f5715523b",
   "metadata": {},
   "outputs": [
    {
     "data": {
      "text/plain": [
       "((182, 11), (61, 11), (182,), (61,))"
      ]
     },
     "execution_count": 6,
     "metadata": {},
     "output_type": "execute_result"
    }
   ],
   "source": [
    "X_train, X_test, y_train, y_test = train_test_split(X, y, test_size=0.25, random_state=0)\n",
    "X_train.shape, X_test.shape, y_train.shape, y_test.shape"
   ]
  },
  {
   "cell_type": "code",
   "execution_count": 7,
   "id": "f665f358-03f4-42d3-ac73-dcc88c43d509",
   "metadata": {},
   "outputs": [
    {
     "data": {
      "text/html": [
       "<div>\n",
       "<style scoped>\n",
       "    .dataframe tbody tr th:only-of-type {\n",
       "        vertical-align: middle;\n",
       "    }\n",
       "\n",
       "    .dataframe tbody tr th {\n",
       "        vertical-align: top;\n",
       "    }\n",
       "\n",
       "    .dataframe thead th {\n",
       "        text-align: right;\n",
       "    }\n",
       "</style>\n",
       "<table border=\"1\" class=\"dataframe\">\n",
       "  <thead>\n",
       "    <tr style=\"text-align: right;\">\n",
       "      <th></th>\n",
       "      <th>Temperature</th>\n",
       "      <th>RH</th>\n",
       "      <th>Ws</th>\n",
       "      <th>Rain</th>\n",
       "      <th>FFMC</th>\n",
       "      <th>DMC</th>\n",
       "      <th>DC</th>\n",
       "      <th>ISI</th>\n",
       "      <th>BUI</th>\n",
       "      <th>Classes</th>\n",
       "      <th>Region</th>\n",
       "    </tr>\n",
       "  </thead>\n",
       "  <tbody>\n",
       "    <tr>\n",
       "      <th>Temperature</th>\n",
       "      <td>1.000000</td>\n",
       "      <td>-0.657325</td>\n",
       "      <td>-0.357016</td>\n",
       "      <td>-0.365941</td>\n",
       "      <td>0.684556</td>\n",
       "      <td>0.482965</td>\n",
       "      <td>0.349021</td>\n",
       "      <td>0.618172</td>\n",
       "      <td>0.447959</td>\n",
       "      <td>0.512299</td>\n",
       "      <td>0.296033</td>\n",
       "    </tr>\n",
       "    <tr>\n",
       "      <th>RH</th>\n",
       "      <td>-0.657325</td>\n",
       "      <td>1.000000</td>\n",
       "      <td>0.262581</td>\n",
       "      <td>0.275592</td>\n",
       "      <td>-0.653649</td>\n",
       "      <td>-0.393893</td>\n",
       "      <td>-0.203883</td>\n",
       "      <td>-0.712353</td>\n",
       "      <td>-0.333027</td>\n",
       "      <td>-0.446906</td>\n",
       "      <td>-0.427696</td>\n",
       "    </tr>\n",
       "    <tr>\n",
       "      <th>Ws</th>\n",
       "      <td>-0.357016</td>\n",
       "      <td>0.262581</td>\n",
       "      <td>1.000000</td>\n",
       "      <td>0.204035</td>\n",
       "      <td>-0.226129</td>\n",
       "      <td>-0.010158</td>\n",
       "      <td>0.079699</td>\n",
       "      <td>-0.018845</td>\n",
       "      <td>0.023680</td>\n",
       "      <td>-0.108246</td>\n",
       "      <td>-0.191245</td>\n",
       "    </tr>\n",
       "    <tr>\n",
       "      <th>Rain</th>\n",
       "      <td>-0.365941</td>\n",
       "      <td>0.275592</td>\n",
       "      <td>0.204035</td>\n",
       "      <td>1.000000</td>\n",
       "      <td>-0.589465</td>\n",
       "      <td>-0.300364</td>\n",
       "      <td>-0.302591</td>\n",
       "      <td>-0.347660</td>\n",
       "      <td>-0.308258</td>\n",
       "      <td>-0.393221</td>\n",
       "      <td>-0.086938</td>\n",
       "    </tr>\n",
       "    <tr>\n",
       "      <th>FFMC</th>\n",
       "      <td>0.684556</td>\n",
       "      <td>-0.653649</td>\n",
       "      <td>-0.226129</td>\n",
       "      <td>-0.589465</td>\n",
       "      <td>1.000000</td>\n",
       "      <td>0.621958</td>\n",
       "      <td>0.528275</td>\n",
       "      <td>0.742079</td>\n",
       "      <td>0.606527</td>\n",
       "      <td>0.773444</td>\n",
       "      <td>0.267099</td>\n",
       "    </tr>\n",
       "    <tr>\n",
       "      <th>DMC</th>\n",
       "      <td>0.482965</td>\n",
       "      <td>-0.393893</td>\n",
       "      <td>-0.010158</td>\n",
       "      <td>-0.300364</td>\n",
       "      <td>0.621958</td>\n",
       "      <td>1.000000</td>\n",
       "      <td>0.884417</td>\n",
       "      <td>0.680918</td>\n",
       "      <td>0.984222</td>\n",
       "      <td>0.629505</td>\n",
       "      <td>0.175711</td>\n",
       "    </tr>\n",
       "    <tr>\n",
       "      <th>DC</th>\n",
       "      <td>0.349021</td>\n",
       "      <td>-0.203883</td>\n",
       "      <td>0.079699</td>\n",
       "      <td>-0.302591</td>\n",
       "      <td>0.528275</td>\n",
       "      <td>0.884417</td>\n",
       "      <td>1.000000</td>\n",
       "      <td>0.501412</td>\n",
       "      <td>0.951157</td>\n",
       "      <td>0.562431</td>\n",
       "      <td>-0.080660</td>\n",
       "    </tr>\n",
       "    <tr>\n",
       "      <th>ISI</th>\n",
       "      <td>0.618172</td>\n",
       "      <td>-0.712353</td>\n",
       "      <td>-0.018845</td>\n",
       "      <td>-0.347660</td>\n",
       "      <td>0.742079</td>\n",
       "      <td>0.680918</td>\n",
       "      <td>0.501412</td>\n",
       "      <td>1.000000</td>\n",
       "      <td>0.632285</td>\n",
       "      <td>0.747764</td>\n",
       "      <td>0.312299</td>\n",
       "    </tr>\n",
       "    <tr>\n",
       "      <th>BUI</th>\n",
       "      <td>0.447959</td>\n",
       "      <td>-0.333027</td>\n",
       "      <td>0.023680</td>\n",
       "      <td>-0.308258</td>\n",
       "      <td>0.606527</td>\n",
       "      <td>0.984222</td>\n",
       "      <td>0.951157</td>\n",
       "      <td>0.632285</td>\n",
       "      <td>1.000000</td>\n",
       "      <td>0.624037</td>\n",
       "      <td>0.079373</td>\n",
       "    </tr>\n",
       "    <tr>\n",
       "      <th>Classes</th>\n",
       "      <td>0.512299</td>\n",
       "      <td>-0.446906</td>\n",
       "      <td>-0.108246</td>\n",
       "      <td>-0.393221</td>\n",
       "      <td>0.773444</td>\n",
       "      <td>0.629505</td>\n",
       "      <td>0.562431</td>\n",
       "      <td>0.747764</td>\n",
       "      <td>0.624037</td>\n",
       "      <td>1.000000</td>\n",
       "      <td>0.201988</td>\n",
       "    </tr>\n",
       "    <tr>\n",
       "      <th>Region</th>\n",
       "      <td>0.296033</td>\n",
       "      <td>-0.427696</td>\n",
       "      <td>-0.191245</td>\n",
       "      <td>-0.086938</td>\n",
       "      <td>0.267099</td>\n",
       "      <td>0.175711</td>\n",
       "      <td>-0.080660</td>\n",
       "      <td>0.312299</td>\n",
       "      <td>0.079373</td>\n",
       "      <td>0.201988</td>\n",
       "      <td>1.000000</td>\n",
       "    </tr>\n",
       "  </tbody>\n",
       "</table>\n",
       "</div>"
      ],
      "text/plain": [
       "             Temperature        RH        Ws      Rain      FFMC       DMC  \\\n",
       "Temperature     1.000000 -0.657325 -0.357016 -0.365941  0.684556  0.482965   \n",
       "RH             -0.657325  1.000000  0.262581  0.275592 -0.653649 -0.393893   \n",
       "Ws             -0.357016  0.262581  1.000000  0.204035 -0.226129 -0.010158   \n",
       "Rain           -0.365941  0.275592  0.204035  1.000000 -0.589465 -0.300364   \n",
       "FFMC            0.684556 -0.653649 -0.226129 -0.589465  1.000000  0.621958   \n",
       "DMC             0.482965 -0.393893 -0.010158 -0.300364  0.621958  1.000000   \n",
       "DC              0.349021 -0.203883  0.079699 -0.302591  0.528275  0.884417   \n",
       "ISI             0.618172 -0.712353 -0.018845 -0.347660  0.742079  0.680918   \n",
       "BUI             0.447959 -0.333027  0.023680 -0.308258  0.606527  0.984222   \n",
       "Classes         0.512299 -0.446906 -0.108246 -0.393221  0.773444  0.629505   \n",
       "Region          0.296033 -0.427696 -0.191245 -0.086938  0.267099  0.175711   \n",
       "\n",
       "                   DC       ISI       BUI   Classes    Region  \n",
       "Temperature  0.349021  0.618172  0.447959  0.512299  0.296033  \n",
       "RH          -0.203883 -0.712353 -0.333027 -0.446906 -0.427696  \n",
       "Ws           0.079699 -0.018845  0.023680 -0.108246 -0.191245  \n",
       "Rain        -0.302591 -0.347660 -0.308258 -0.393221 -0.086938  \n",
       "FFMC         0.528275  0.742079  0.606527  0.773444  0.267099  \n",
       "DMC          0.884417  0.680918  0.984222  0.629505  0.175711  \n",
       "DC           1.000000  0.501412  0.951157  0.562431 -0.080660  \n",
       "ISI          0.501412  1.000000  0.632285  0.747764  0.312299  \n",
       "BUI          0.951157  0.632285  1.000000  0.624037  0.079373  \n",
       "Classes      0.562431  0.747764  0.624037  1.000000  0.201988  \n",
       "Region      -0.080660  0.312299  0.079373  0.201988  1.000000  "
      ]
     },
     "execution_count": 7,
     "metadata": {},
     "output_type": "execute_result"
    }
   ],
   "source": [
    "X_train.corr()"
   ]
  },
  {
   "cell_type": "code",
   "execution_count": 8,
   "id": "f0dc4309-d0b3-41be-a210-77a96a668bf5",
   "metadata": {},
   "outputs": [
    {
     "data": {
      "image/png": "[encoded data removed]",
      "text/plain": [
       "<Figure size 1200x1000 with 2 Axes>"
      ]
     },
     "metadata": {},
     "output_type": "display_data"
    }
   ],
   "source": [
    "plt.figure(figsize=(12,10))\n",
    "cor = X_train.corr()\n",
    "sns.heatmap(cor, annot=True, cmap=plt.cm.CMRmap_r)\n",
    "plt.show()"
   ]
  },
  {
   "cell_type": "code",
   "execution_count": 9,
   "id": "08cd48d7-dfbe-4bfc-b2ab-8ae4e46ed850",
   "metadata": {},
   "outputs": [],
   "source": [
    "def correlation(dataset, threshold):\n",
    "    col_corr = set()\n",
    "    corr_matrix = dataset.corr()\n",
    "    for i in range(len(corr_matrix.columns)):\n",
    "        for j in range(i):\n",
    "            if abs(corr_matrix.iloc[i,j]) > threshold:\n",
    "                colname = corr_matrix.columns[i]\n",
    "                col_corr.add(colname)\n",
    "    return col_corr"
   ]
  },
  {
   "cell_type": "code",
   "execution_count": 10,
   "id": "d1a2b87c-4692-4101-8e9c-6ca5fac1d8a7",
   "metadata": {},
   "outputs": [],
   "source": [
    "corr_features = correlation(X_train, 0.75)"
   ]
  },
  {
   "cell_type": "code",
   "execution_count": 11,
   "id": "2c98d1e2-df22-4747-be83-02703f07f2fb",
   "metadata": {},
   "outputs": [
    {
     "data": {
      "text/plain": [
       "{'BUI', 'Classes', 'DC'}"
      ]
     },
     "execution_count": 11,
     "metadata": {},
     "output_type": "execute_result"
    }
   ],
   "source": [
    "corr_features"
   ]
  },
  {
   "cell_type": "code",
   "execution_count": 12,
   "id": "53deb274-8bc9-4de9-a2aa-4a659f43f7aa",
   "metadata": {},
   "outputs": [
    {
     "data": {
      "text/plain": [
       "((182, 8), (61, 8))"
      ]
     },
     "execution_count": 12,
     "metadata": {},
     "output_type": "execute_result"
    }
   ],
   "source": [
    "X_train.drop(corr_features, axis=1, inplace=True)\n",
    "X_test.drop(corr_features, axis=1, inplace=True)\n",
    "X_train.shape, X_test.shape"
   ]
  },
  {
   "cell_type": "code",
   "execution_count": 13,
   "id": "532504ec-eb32-4c04-acd7-5ee77ee0b4d9",
   "metadata": {},
   "outputs": [],
   "source": [
    "def scaler_standard(X_train, X_test):\n",
    "    scaler = StandardScaler()\n",
    "    X_train_scaled = scaler.fit_transform(X_train)\n",
    "    X_test_scaled = scaler.transform(X_test)\n",
    "    return X_train_scaled, X_test_scaled"
   ]
  },
  {
   "cell_type": "code",
   "execution_count": 14,
   "id": "34968ce8-920e-454c-9020-02799571b75c",
   "metadata": {},
   "outputs": [],
   "source": [
    "X_train_scaled, X_test_scaled = scaler_standard(X_train, X_test)\n"
   ]
  },
  {
   "cell_type": "code",
   "execution_count": 15,
   "id": "4112a1d5-af40-4095-8357-4d9390d3f416",
   "metadata": {},
   "outputs": [
    {
     "data": {
      "text/plain": [
       "Text(0.5, 1.0, 'X train after scaling')"
      ]
     },
     "execution_count": 15,
     "metadata": {},
     "output_type": "execute_result"
    },
    {
     "data": {
      "image/png": "[encoded data removed]",
      "text/plain": [
       "<Figure size 1500x500 with 3 Axes>"
      ]
     },
     "metadata": {},
     "output_type": "display_data"
    }
   ],
   "source": [
    "plt.subplots(figsize=(15,5))\n",
    "plt.subplot(1,2,1)\n",
    "sns.boxplot(data=X_train)\n",
    "plt.title('X train Before Scaling')\n",
    "plt.subplot(1,2,2)\n",
    "sns.boxplot(data=X_train_scaled)\n",
    "plt.title('X train after scaling')"
   ]
  },
  {
   "cell_type": "markdown",
   "id": "14be163c-a889-4081-b384-4416511c65f7",
   "metadata": {},
   "source": [
    "# Modeling"
   ]
  },
  {
   "cell_type": "markdown",
   "id": "587e6ac1-0bc1-4b9b-bfca-ce5bcfaeeea1",
   "metadata": {},
   "source": [
    "## Linear Regression"
   ]
  },
  {
   "cell_type": "code",
   "execution_count": 16,
   "id": "f90282e5-cdab-40e7-bb46-f539b8f76cee",
   "metadata": {},
   "outputs": [
    {
     "name": "stdout",
     "output_type": "stream",
     "text": [
      "Linear Regression\n",
      "R2 Score Value 0.9700\n",
      "MAE value: 0.645319\n"
     ]
    }
   ],
   "source": [
    "from sklearn.linear_model import LinearRegression\n",
    "from sklearn.metrics import mean_absolute_error, r2_score\n",
    "\n",
    "lreg = LinearRegression()\n",
    "lreg.fit(X_train_scaled, y_train)\n",
    "lreg_pred = lreg.predict(X_test_scaled)\n",
    "mae = mean_absolute_error(y_test, lreg_pred)\n",
    "r2 = r2_score(y_test, lreg_pred)\n",
    "\n",
    "print('Linear Regression')\n",
    "print('R2 Score Value {:.4f}'.format(r2))\n",
    "print('MAE value: {:4f}'.format(mae))"
   ]
  },
  {
   "cell_type": "markdown",
   "id": "8e8d4307-c169-4582-a6e3-a7ff9e8ab6a9",
   "metadata": {},
   "source": [
    "## Lasso Regression"
   ]
  },
  {
   "cell_type": "code",
   "execution_count": 17,
   "id": "72728735-17ac-4bc8-a361-4d28e60cb6d2",
   "metadata": {},
   "outputs": [
    {
     "name": "stdout",
     "output_type": "stream",
     "text": [
      "Lasso Regression\n",
      "R2 Score Value 0.9377\n",
      "MAE value: 1.120918\n"
     ]
    }
   ],
   "source": [
    "from sklearn.linear_model import Lasso\n",
    "from sklearn.metrics import mean_absolute_error, r2_score\n",
    "\n",
    "lasso = Lasso()\n",
    "lasso.fit(X_train_scaled, y_train)\n",
    "lasso_pred = lasso.predict(X_test_scaled)\n",
    "mae = mean_absolute_error(y_test, lasso_pred)\n",
    "r2 = r2_score(y_test, lasso_pred)\n",
    "\n",
    "print('Lasso Regression')\n",
    "print('R2 Score Value {:.4f}'.format(r2))\n",
    "print('MAE value: {:4f}'.format(mae))"
   ]
  },
  {
   "cell_type": "markdown",
   "id": "e6c36923-076b-4a1d-bbe5-3f3f12c76049",
   "metadata": {},
   "source": [
    "## Ridge Regression"
   ]
  },
  {
   "cell_type": "code",
   "execution_count": 18,
   "id": "ad621d23-0a02-4c6a-bba5-7e6d92e5c814",
   "metadata": {},
   "outputs": [
    {
     "name": "stdout",
     "output_type": "stream",
     "text": [
      "Ridge Regression\n",
      "R2 Score Value 0.9690\n",
      "MAE value: 0.664769\n"
     ]
    }
   ],
   "source": [
    "from sklearn.linear_model import Ridge\n",
    "from sklearn.metrics import mean_absolute_error, r2_score\n",
    "ridge = Ridge()\n",
    "ridge.fit(X_train_scaled, y_train)\n",
    "ridge_pred = ridge.predict(X_test_scaled)\n",
    "mae = mean_absolute_error(y_test, ridge_pred)\n",
    "r2 = r2_score(y_test, ridge_pred)\n",
    "\n",
    "print('Ridge Regression')\n",
    "print('R2 Score Value {:.4f}'.format(r2))\n",
    "print('MAE value: {:4f}'.format(mae))\n"
   ]
  },
  {
   "cell_type": "markdown",
   "id": "a7c82d19-160f-490d-8a38-dd039cdc20bb",
   "metadata": {},
   "source": [
    "## Support Vector Regression"
   ]
  },
  {
   "cell_type": "code",
   "execution_count": 19,
   "id": "31dfa31b-98ad-4ddd-bf55-7252df5855e3",
   "metadata": {},
   "outputs": [
    {
     "name": "stdout",
     "output_type": "stream",
     "text": [
      "Support Vector Regression\n",
      "R2 Score Value 0.9340\n",
      "MAE value: 0.867593\n"
     ]
    }
   ],
   "source": [
    "from sklearn.svm import SVR\n",
    "from sklearn.metrics import mean_absolute_error, r2_score\n",
    "\n",
    "svr = SVR()\n",
    "svr.fit(X_train_scaled, y_train)\n",
    "svr_pred = svr.predict(X_test_scaled)\n",
    "mae = mean_absolute_error(y_test, svr_pred)\n",
    "r2 = r2_score(y_test, svr_pred)\n",
    "\n",
    "print('Support Vector Regression')\n",
    "print('R2 Score Value {:.4f}'.format(r2))\n",
    "print('MAE value: {:4f}'.format(mae))"
   ]
  },
  {
   "cell_type": "markdown",
   "id": "3df54e31-864b-452d-b3e1-42deb68599ec",
   "metadata": {},
   "source": [
    "## Random Forest Regressor"
   ]
  },
  {
   "cell_type": "code",
   "execution_count": 20,
   "id": "5d7ef8bf-cbcb-475e-8ebd-414cbec70856",
   "metadata": {},
   "outputs": [
    {
     "name": "stdout",
     "output_type": "stream",
     "text": [
      "Random Forrest Regressor\n",
      "R2 Score Value 0.9781\n",
      "MAE value: 0.606246\n"
     ]
    }
   ],
   "source": [
    "from sklearn.ensemble import RandomForestRegressor\n",
    "from sklearn.metrics import mean_absolute_error as MAE, r2_score\n",
    "\n",
    "rf = RandomForestRegressor()\n",
    "rf.fit(X_train_scaled, y_train)\n",
    "rf_pred = rf.predict(X_test_scaled)\n",
    "mae = MAE(y_test, rf_pred)\n",
    "r2 = r2_score(y_test, rf_pred)\n",
    "\n",
    "print('Random Forrest Regressor')\n",
    "print('R2 Score Value {:.4f}'.format(r2))\n",
    "print('MAE value: {:4f}'.format(mae))\n"
   ]
  },
  {
   "cell_type": "markdown",
   "id": "2e15351a-84a1-4901-bf2e-efeb162e84c9",
   "metadata": {},
   "source": [
    "## K-Neighbors Regressor"
   ]
  },
  {
   "cell_type": "code",
   "execution_count": 21,
   "id": "d7df4738-cfd9-4ff4-8d70-a4de7cbc0b63",
   "metadata": {},
   "outputs": [
    {
     "name": "stdout",
     "output_type": "stream",
     "text": [
      "K-Neighbors Regressor\n",
      "R2 Score Value 0.9422\n",
      "MAE value: 0.981639\n"
     ]
    }
   ],
   "source": [
    "from sklearn.neighbors import KNeighborsRegressor\n",
    "from sklearn.metrics import mean_absolute_error as MAE, r2_score\n",
    "\n",
    "knn = KNeighborsRegressor()\n",
    "knn.fit(X_train_scaled, y_train)\n",
    "knn_pred = knn.predict(X_test_scaled)\n",
    "mae = MAE(y_test, knn_pred)\n",
    "r2 = r2_score(y_test, knn_pred)\n",
    "\n",
    "print('K-Neighbors Regressor')\n",
    "print('R2 Score Value {:.4f}'.format(r2))\n",
    "print('MAE value: {:4f}'.format(mae))\n",
    "\n"
   ]
  },
  {
   "cell_type": "markdown",
   "id": "0f606428-f32e-4220-8478-26a96134dcf4",
   "metadata": {},
   "source": [
    "# Tuning"
   ]
  },
  {
   "cell_type": "markdown",
   "id": "7c296fda-342e-44aa-a262-1d8313a63203",
   "metadata": {},
   "source": [
    "## Tuning Random Forest"
   ]
  },
  {
   "cell_type": "code",
   "execution_count": 22,
   "id": "c09d6a33-df00-4aa5-ab68-1982bd058371",
   "metadata": {},
   "outputs": [
    {
     "name": "stdout",
     "output_type": "stream",
     "text": [
      "Fitting 10 folds for each of 10 candidates, totalling 100 fits\n"
     ]
    },
    {
     "data": {
      "text/html": [
       "<style>#sk-container-id-1 {color: black;background-color: white;}#sk-container-id-1 pre{padding: 0;}#sk-container-id-1 div.sk-toggleable {background-color: white;}#sk-container-id-1 label.sk-toggleable__label {cursor: pointer;display: block;width: 100%;margin-bottom: 0;padding: 0.3em;box-sizing: border-box;text-align: center;}#sk-container-id-1 label.sk-toggleable__label-arrow:before {content: \"▸\";float: left;margin-right: 0.25em;color: #696969;}#sk-container-id-1 label.sk-toggleable__label-arrow:hover:before {color: black;}#sk-container-id-1 div.sk-estimator:hover label.sk-toggleable__label-arrow:before {color: black;}#sk-container-id-1 div.sk-toggleable__content {max-height: 0;max-width: 0;overflow: hidden;text-align: left;background-color: #f0f8ff;}#sk-container-id-1 div.sk-toggleable__content pre {margin: 0.2em;color: black;border-radius: 0.25em;background-color: #f0f8ff;}#sk-container-id-1 input.sk-toggleable__control:checked~div.sk-toggleable__content {max-height: 200px;max-width: 100%;overflow: auto;}#sk-container-id-1 input.sk-toggleable__control:checked~label.sk-toggleable__label-arrow:before {content: \"▾\";}#sk-container-id-1 div.sk-estimator input.sk-toggleable__control:checked~label.sk-toggleable__label {background-color: #d4ebff;}#sk-container-id-1 div.sk-label input.sk-toggleable__control:checked~label.sk-toggleable__label {background-color: #d4ebff;}#sk-container-id-1 input.sk-hidden--visually {border: 0;clip: rect(1px 1px 1px 1px);clip: rect(1px, 1px, 1px, 1px);height: 1px;margin: -1px;overflow: hidden;padding: 0;position: absolute;width: 1px;}#sk-container-id-1 div.sk-estimator {font-family: monospace;background-color: #f0f8ff;border: 1px dotted black;border-radius: 0.25em;box-sizing: border-box;margin-bottom: 0.5em;}#sk-container-id-1 div.sk-estimator:hover {background-color: #d4ebff;}#sk-container-id-1 div.sk-parallel-item::after {content: \"\";width: 100%;border-bottom: 1px solid gray;flex-grow: 1;}#sk-container-id-1 div.sk-label:hover label.sk-toggleable__label {background-color: #d4ebff;}#sk-container-id-1 div.sk-serial::before {content: \"\";position: absolute;border-left: 1px solid gray;box-sizing: border-box;top: 0;bottom: 0;left: 50%;z-index: 0;}#sk-container-id-1 div.sk-serial {display: flex;flex-direction: column;align-items: center;background-color: white;padding-right: 0.2em;padding-left: 0.2em;position: relative;}#sk-container-id-1 div.sk-item {position: relative;z-index: 1;}#sk-container-id-1 div.sk-parallel {display: flex;align-items: stretch;justify-content: center;background-color: white;position: relative;}#sk-container-id-1 div.sk-item::before, #sk-container-id-1 div.sk-parallel-item::before {content: \"\";position: absolute;border-left: 1px solid gray;box-sizing: border-box;top: 0;bottom: 0;left: 50%;z-index: -1;}#sk-container-id-1 div.sk-parallel-item {display: flex;flex-direction: column;z-index: 1;position: relative;background-color: white;}#sk-container-id-1 div.sk-parallel-item:first-child::after {align-self: flex-end;width: 50%;}#sk-container-id-1 div.sk-parallel-item:last-child::after {align-self: flex-start;width: 50%;}#sk-container-id-1 div.sk-parallel-item:only-child::after {width: 0;}#sk-container-id-1 div.sk-dashed-wrapped {border: 1px dashed gray;margin: 0 0.4em 0.5em 0.4em;box-sizing: border-box;padding-bottom: 0.4em;background-color: white;}#sk-container-id-1 div.sk-label label {font-family: monospace;font-weight: bold;display: inline-block;line-height: 1.2em;}#sk-container-id-1 div.sk-label-container {text-align: center;}#sk-container-id-1 div.sk-container {/* jupyter's `normalize.less` sets `[hidden] { display: none; }` but bootstrap.min.css set `[hidden] { display: none !important; }` so we also need the `!important` here to be able to override the default hidden behavior on the sphinx rendered scikit-learn.org. See: https://github.com/scikit-learn/scikit-learn/issues/21755 */display: inline-block !important;position: relative;}#sk-container-id-1 div.sk-text-repr-fallback {display: none;}</style><div id=\"sk-container-id-1\" class=\"sk-top-container\"><div class=\"sk-text-repr-fallback\"><pre>RandomizedSearchCV(cv=10, estimator=RandomForestRegressor(), n_jobs=-1,\n",
       "                   param_distributions=[{&#x27;bootstrap&#x27;: [True, False],\n",
       "                                         &#x27;max_depth&#x27;: [10, 20, 30, 40, 50, 60,\n",
       "                                                       70, 80, 90, 100, 110,\n",
       "                                                       120],\n",
       "                                         &#x27;min_samples_leaf&#x27;: [1, 3, 4],\n",
       "                                         &#x27;min_samples_split&#x27;: [2, 6, 10],\n",
       "                                         &#x27;n_estimators&#x27;: [5, 20, 50, 100]}],\n",
       "                   verbose=2)</pre><b>In a Jupyter environment, please rerun this cell to show the HTML representation or trust the notebook. <br />On GitHub, the HTML representation is unable to render, please try loading this page with nbviewer.org.</b></div><div class=\"sk-container\" hidden><div class=\"sk-item sk-dashed-wrapped\"><div class=\"sk-label-container\"><div class=\"sk-label sk-toggleable\"><input class=\"sk-toggleable__control sk-hidden--visually\" id=\"sk-estimator-id-1\" type=\"checkbox\" ><label for=\"sk-estimator-id-1\" class=\"sk-toggleable__label sk-toggleable__label-arrow\">RandomizedSearchCV</label><div class=\"sk-toggleable__content\"><pre>RandomizedSearchCV(cv=10, estimator=RandomForestRegressor(), n_jobs=-1,\n",
       "                   param_distributions=[{&#x27;bootstrap&#x27;: [True, False],\n",
       "                                         &#x27;max_depth&#x27;: [10, 20, 30, 40, 50, 60,\n",
       "                                                       70, 80, 90, 100, 110,\n",
       "                                                       120],\n",
       "                                         &#x27;min_samples_leaf&#x27;: [1, 3, 4],\n",
       "                                         &#x27;min_samples_split&#x27;: [2, 6, 10],\n",
       "                                         &#x27;n_estimators&#x27;: [5, 20, 50, 100]}],\n",
       "                   verbose=2)</pre></div></div></div><div class=\"sk-parallel\"><div class=\"sk-parallel-item\"><div class=\"sk-item\"><div class=\"sk-label-container\"><div class=\"sk-label sk-toggleable\"><input class=\"sk-toggleable__control sk-hidden--visually\" id=\"sk-estimator-id-2\" type=\"checkbox\" ><label for=\"sk-estimator-id-2\" class=\"sk-toggleable__label sk-toggleable__label-arrow\">estimator: RandomForestRegressor</label><div class=\"sk-toggleable__content\"><pre>RandomForestRegressor()</pre></div></div></div><div class=\"sk-serial\"><div class=\"sk-item\"><div class=\"sk-estimator sk-toggleable\"><input class=\"sk-toggleable__control sk-hidden--visually\" id=\"sk-estimator-id-3\" type=\"checkbox\" ><label for=\"sk-estimator-id-3\" class=\"sk-toggleable__label sk-toggleable__label-arrow\">RandomForestRegressor</label><div class=\"sk-toggleable__content\"><pre>RandomForestRegressor()</pre></div></div></div></div></div></div></div></div></div></div>"
      ],
      "text/plain": [
       "RandomizedSearchCV(cv=10, estimator=RandomForestRegressor(), n_jobs=-1,\n",
       "                   param_distributions=[{'bootstrap': [True, False],\n",
       "                                         'max_depth': [10, 20, 30, 40, 50, 60,\n",
       "                                                       70, 80, 90, 100, 110,\n",
       "                                                       120],\n",
       "                                         'min_samples_leaf': [1, 3, 4],\n",
       "                                         'min_samples_split': [2, 6, 10],\n",
       "                                         'n_estimators': [5, 20, 50, 100]}],\n",
       "                   verbose=2)"
      ]
     },
     "execution_count": 22,
     "metadata": {},
     "output_type": "execute_result"
    }
   ],
   "source": [
    "param_grid = [{'bootstrap': [True, False], \n",
    "               'max_depth':[10,20,30,40,50,60,70,80,90, 100, 110, 120], \n",
    "               'min_samples_leaf':[1,3,4], \n",
    "               'min_samples_split':[2,6,10], 'n_estimators':[5,20,50,100]}]\n",
    "f_reg = RandomForestRegressor()\n",
    "Random_rf = RandomizedSearchCV(f_reg, param_grid, cv=10, verbose=2, n_jobs=-1)\n",
    "Random_rf.fit(X_train_scaled, y_train)\n",
    "\n"
   ]
  },
  {
   "cell_type": "code",
   "execution_count": 23,
   "id": "615551c5-e37c-4de3-b96b-14de3791a3b2",
   "metadata": {},
   "outputs": [],
   "source": [
    "best_random_grid = Random_rf.best_estimator_\n",
    "bestrf_pred = best_random_grid.predict(X_test_scaled)"
   ]
  },
  {
   "cell_type": "code",
   "execution_count": 24,
   "id": "c32c568f-5f56-4ee0-bbcf-6658ecaf44d7",
   "metadata": {},
   "outputs": [
    {
     "name": "stdout",
     "output_type": "stream",
     "text": [
      "Random Forest Tuned\n",
      "R2 Score Value 0.9771\n",
      "MAE value: 0.635399\n"
     ]
    }
   ],
   "source": [
    "mae = MAE(y_test, bestrf_pred)\n",
    "r2 = r2_score(y_test, bestrf_pred)\n",
    "print('Random Forest Tuned')\n",
    "print('R2 Score Value {:.4f}'.format(r2))\n",
    "print('MAE value: {:4f}'.format(mae))\n"
   ]
  },
  {
   "cell_type": "markdown",
   "id": "c838ccca-3887-47e6-843a-d926a50b40fa",
   "metadata": {},
   "source": [
    "## Tuning Ridge Regression"
   ]
  },
  {
   "cell_type": "code",
   "execution_count": 25,
   "id": "31d4feb1-cf4a-4e01-8de1-0fb02e6d7d1e",
   "metadata": {},
   "outputs": [
    {
     "data": {
      "text/html": [
       "<style>#sk-container-id-2 {color: black;background-color: white;}#sk-container-id-2 pre{padding: 0;}#sk-container-id-2 div.sk-toggleable {background-color: white;}#sk-container-id-2 label.sk-toggleable__label {cursor: pointer;display: block;width: 100%;margin-bottom: 0;padding: 0.3em;box-sizing: border-box;text-align: center;}#sk-container-id-2 label.sk-toggleable__label-arrow:before {content: \"▸\";float: left;margin-right: 0.25em;color: #696969;}#sk-container-id-2 label.sk-toggleable__label-arrow:hover:before {color: black;}#sk-container-id-2 div.sk-estimator:hover label.sk-toggleable__label-arrow:before {color: black;}#sk-container-id-2 div.sk-toggleable__content {max-height: 0;max-width: 0;overflow: hidden;text-align: left;background-color: #f0f8ff;}#sk-container-id-2 div.sk-toggleable__content pre {margin: 0.2em;color: black;border-radius: 0.25em;background-color: #f0f8ff;}#sk-container-id-2 input.sk-toggleable__control:checked~div.sk-toggleable__content {max-height: 200px;max-width: 100%;overflow: auto;}#sk-container-id-2 input.sk-toggleable__control:checked~label.sk-toggleable__label-arrow:before {content: \"▾\";}#sk-container-id-2 div.sk-estimator input.sk-toggleable__control:checked~label.sk-toggleable__label {background-color: #d4ebff;}#sk-container-id-2 div.sk-label input.sk-toggleable__control:checked~label.sk-toggleable__label {background-color: #d4ebff;}#sk-container-id-2 input.sk-hidden--visually {border: 0;clip: rect(1px 1px 1px 1px);clip: rect(1px, 1px, 1px, 1px);height: 1px;margin: -1px;overflow: hidden;padding: 0;position: absolute;width: 1px;}#sk-container-id-2 div.sk-estimator {font-family: monospace;background-color: #f0f8ff;border: 1px dotted black;border-radius: 0.25em;box-sizing: border-box;margin-bottom: 0.5em;}#sk-container-id-2 div.sk-estimator:hover {background-color: #d4ebff;}#sk-container-id-2 div.sk-parallel-item::after {content: \"\";width: 100%;border-bottom: 1px solid gray;flex-grow: 1;}#sk-container-id-2 div.sk-label:hover label.sk-toggleable__label {background-color: #d4ebff;}#sk-container-id-2 div.sk-serial::before {content: \"\";position: absolute;border-left: 1px solid gray;box-sizing: border-box;top: 0;bottom: 0;left: 50%;z-index: 0;}#sk-container-id-2 div.sk-serial {display: flex;flex-direction: column;align-items: center;background-color: white;padding-right: 0.2em;padding-left: 0.2em;position: relative;}#sk-container-id-2 div.sk-item {position: relative;z-index: 1;}#sk-container-id-2 div.sk-parallel {display: flex;align-items: stretch;justify-content: center;background-color: white;position: relative;}#sk-container-id-2 div.sk-item::before, #sk-container-id-2 div.sk-parallel-item::before {content: \"\";position: absolute;border-left: 1px solid gray;box-sizing: border-box;top: 0;bottom: 0;left: 50%;z-index: -1;}#sk-container-id-2 div.sk-parallel-item {display: flex;flex-direction: column;z-index: 1;position: relative;background-color: white;}#sk-container-id-2 div.sk-parallel-item:first-child::after {align-self: flex-end;width: 50%;}#sk-container-id-2 div.sk-parallel-item:last-child::after {align-self: flex-start;width: 50%;}#sk-container-id-2 div.sk-parallel-item:only-child::after {width: 0;}#sk-container-id-2 div.sk-dashed-wrapped {border: 1px dashed gray;margin: 0 0.4em 0.5em 0.4em;box-sizing: border-box;padding-bottom: 0.4em;background-color: white;}#sk-container-id-2 div.sk-label label {font-family: monospace;font-weight: bold;display: inline-block;line-height: 1.2em;}#sk-container-id-2 div.sk-label-container {text-align: center;}#sk-container-id-2 div.sk-container {/* jupyter's `normalize.less` sets `[hidden] { display: none; }` but bootstrap.min.css set `[hidden] { display: none !important; }` so we also need the `!important` here to be able to override the default hidden behavior on the sphinx rendered scikit-learn.org. See: https://github.com/scikit-learn/scikit-learn/issues/21755 */display: inline-block !important;position: relative;}#sk-container-id-2 div.sk-text-repr-fallback {display: none;}</style><div id=\"sk-container-id-2\" class=\"sk-top-container\"><div class=\"sk-text-repr-fallback\"><pre>RandomizedSearchCV(cv=10, estimator=Ridge(), n_jobs=-1,\n",
       "                   param_distributions=[{&#x27;alpha&#x27;: array([1.00000000e-11, 1.66810054e-11, 2.78255940e-11, 4.64158883e-11,\n",
       "       7.74263683e-11, 1.29154967e-10, 2.15443469e-10, 3.59381366e-10,\n",
       "       5.99484250e-10, 1.00000000e-09, 1.66810054e-09, 2.78255940e-09,\n",
       "       4.64158883e-09, 7.74263683e-09, 1.29154967e-08, 2.15443469e-08,\n",
       "       3.59381366e-08, 5.994...\n",
       "       5.99484250e+06, 1.00000000e+07, 1.66810054e+07, 2.78255940e+07,\n",
       "       4.64158883e+07, 7.74263683e+07, 1.29154967e+08, 2.15443469e+08,\n",
       "       3.59381366e+08, 5.99484250e+08, 1.00000000e+09, 1.66810054e+09,\n",
       "       2.78255940e+09, 4.64158883e+09, 7.74263683e+09, 1.29154967e+10,\n",
       "       2.15443469e+10, 3.59381366e+10, 5.99484250e+10, 1.00000000e+11]),\n",
       "                                         &#x27;solver&#x27;: [&#x27;auto&#x27;, &#x27;svd&#x27;, &#x27;cholesky&#x27;,\n",
       "                                                    &#x27;lsqr&#x27;, &#x27;sparse_cg&#x27;, &#x27;sag&#x27;,\n",
       "                                                    &#x27;saga&#x27;, &#x27;lbfgs&#x27;]}])</pre><b>In a Jupyter environment, please rerun this cell to show the HTML representation or trust the notebook. <br />On GitHub, the HTML representation is unable to render, please try loading this page with nbviewer.org.</b></div><div class=\"sk-container\" hidden><div class=\"sk-item sk-dashed-wrapped\"><div class=\"sk-label-container\"><div class=\"sk-label sk-toggleable\"><input class=\"sk-toggleable__control sk-hidden--visually\" id=\"sk-estimator-id-4\" type=\"checkbox\" ><label for=\"sk-estimator-id-4\" class=\"sk-toggleable__label sk-toggleable__label-arrow\">RandomizedSearchCV</label><div class=\"sk-toggleable__content\"><pre>RandomizedSearchCV(cv=10, estimator=Ridge(), n_jobs=-1,\n",
       "                   param_distributions=[{&#x27;alpha&#x27;: array([1.00000000e-11, 1.66810054e-11, 2.78255940e-11, 4.64158883e-11,\n",
       "       7.74263683e-11, 1.29154967e-10, 2.15443469e-10, 3.59381366e-10,\n",
       "       5.99484250e-10, 1.00000000e-09, 1.66810054e-09, 2.78255940e-09,\n",
       "       4.64158883e-09, 7.74263683e-09, 1.29154967e-08, 2.15443469e-08,\n",
       "       3.59381366e-08, 5.994...\n",
       "       5.99484250e+06, 1.00000000e+07, 1.66810054e+07, 2.78255940e+07,\n",
       "       4.64158883e+07, 7.74263683e+07, 1.29154967e+08, 2.15443469e+08,\n",
       "       3.59381366e+08, 5.99484250e+08, 1.00000000e+09, 1.66810054e+09,\n",
       "       2.78255940e+09, 4.64158883e+09, 7.74263683e+09, 1.29154967e+10,\n",
       "       2.15443469e+10, 3.59381366e+10, 5.99484250e+10, 1.00000000e+11]),\n",
       "                                         &#x27;solver&#x27;: [&#x27;auto&#x27;, &#x27;svd&#x27;, &#x27;cholesky&#x27;,\n",
       "                                                    &#x27;lsqr&#x27;, &#x27;sparse_cg&#x27;, &#x27;sag&#x27;,\n",
       "                                                    &#x27;saga&#x27;, &#x27;lbfgs&#x27;]}])</pre></div></div></div><div class=\"sk-parallel\"><div class=\"sk-parallel-item\"><div class=\"sk-item\"><div class=\"sk-label-container\"><div class=\"sk-label sk-toggleable\"><input class=\"sk-toggleable__control sk-hidden--visually\" id=\"sk-estimator-id-5\" type=\"checkbox\" ><label for=\"sk-estimator-id-5\" class=\"sk-toggleable__label sk-toggleable__label-arrow\">estimator: Ridge</label><div class=\"sk-toggleable__content\"><pre>Ridge()</pre></div></div></div><div class=\"sk-serial\"><div class=\"sk-item\"><div class=\"sk-estimator sk-toggleable\"><input class=\"sk-toggleable__control sk-hidden--visually\" id=\"sk-estimator-id-6\" type=\"checkbox\" ><label for=\"sk-estimator-id-6\" class=\"sk-toggleable__label sk-toggleable__label-arrow\">Ridge</label><div class=\"sk-toggleable__content\"><pre>Ridge()</pre></div></div></div></div></div></div></div></div></div></div>"
      ],
      "text/plain": [
       "RandomizedSearchCV(cv=10, estimator=Ridge(), n_jobs=-1,\n",
       "                   param_distributions=[{'alpha': array([1.00000000e-11, 1.66810054e-11, 2.78255940e-11, 4.64158883e-11,\n",
       "       7.74263683e-11, 1.29154967e-10, 2.15443469e-10, 3.59381366e-10,\n",
       "       5.99484250e-10, 1.00000000e-09, 1.66810054e-09, 2.78255940e-09,\n",
       "       4.64158883e-09, 7.74263683e-09, 1.29154967e-08, 2.15443469e-08,\n",
       "       3.59381366e-08, 5.994...\n",
       "       5.99484250e+06, 1.00000000e+07, 1.66810054e+07, 2.78255940e+07,\n",
       "       4.64158883e+07, 7.74263683e+07, 1.29154967e+08, 2.15443469e+08,\n",
       "       3.59381366e+08, 5.99484250e+08, 1.00000000e+09, 1.66810054e+09,\n",
       "       2.78255940e+09, 4.64158883e+09, 7.74263683e+09, 1.29154967e+10,\n",
       "       2.15443469e+10, 3.59381366e+10, 5.99484250e+10, 1.00000000e+11]),\n",
       "                                         'solver': ['auto', 'svd', 'cholesky',\n",
       "                                                    'lsqr', 'sparse_cg', 'sag',\n",
       "                                                    'saga', 'lbfgs']}])"
      ]
     },
     "execution_count": 25,
     "metadata": {},
     "output_type": "execute_result"
    }
   ],
   "source": [
    "from sklearn.exceptions import FitFailedWarning, ConvergenceWarning\n",
    "import warnings\n",
    "warnings.filterwarnings(action='ignore')\n",
    "ridge_params = [{'alpha': (np.logspace(-11,11,100)),\n",
    "                 'solver':['auto', 'svd', 'cholesky','lsqr','sparse_cg','sag','saga','lbfgs']}]\n",
    "ridge = Ridge()\n",
    "random_ridge = RandomizedSearchCV(ridge, ridge_params, cv=10, n_jobs=-1)\n",
    "random_ridge.fit(X_train_scaled, y_train)"
   ]
  },
  {
   "cell_type": "code",
   "execution_count": 26,
   "id": "57a7722b-ad41-41cb-84df-38a298225d4c",
   "metadata": {},
   "outputs": [
    {
     "name": "stdout",
     "output_type": "stream",
     "text": [
      "Ridge Tuned\n",
      "R2 Score Value 0.9700\n",
      "MAE value: 0.645370\n"
     ]
    }
   ],
   "source": [
    "best_ridge = random_ridge.best_estimator_\n",
    "rbest_pred = best_ridge.predict(X_test_scaled)\n",
    "mae = MAE(y_test, rbest_pred)\n",
    "r2 = r2_score(y_test, rbest_pred)\n",
    "\n",
    "print('Ridge Tuned')\n",
    "print('R2 Score Value {:.4f}'.format(r2))\n",
    "print('MAE value: {:4f}'.format(mae))\n"
   ]
  },
  {
   "cell_type": "markdown",
   "id": "9cdb2dfb-ff32-44d4-ba6c-e81ae4183dc5",
   "metadata": {},
   "source": [
    "### Feature Removal (Optional)"
   ]
  },
  {
   "cell_type": "code",
   "execution_count": 27,
   "id": "5712dff8-19c7-44f5-8544-0a91f576335a",
   "metadata": {},
   "outputs": [
    {
     "data": {
      "text/html": [
       "<div>\n",
       "<style scoped>\n",
       "    .dataframe tbody tr th:only-of-type {\n",
       "        vertical-align: middle;\n",
       "    }\n",
       "\n",
       "    .dataframe tbody tr th {\n",
       "        vertical-align: top;\n",
       "    }\n",
       "\n",
       "    .dataframe thead th {\n",
       "        text-align: right;\n",
       "    }\n",
       "</style>\n",
       "<table border=\"1\" class=\"dataframe\">\n",
       "  <thead>\n",
       "    <tr style=\"text-align: right;\">\n",
       "      <th></th>\n",
       "      <th>feature</th>\n",
       "      <th>importance</th>\n",
       "    </tr>\n",
       "  </thead>\n",
       "  <tbody>\n",
       "    <tr>\n",
       "      <th>6</th>\n",
       "      <td>ISI</td>\n",
       "      <td>0.717350</td>\n",
       "    </tr>\n",
       "    <tr>\n",
       "      <th>5</th>\n",
       "      <td>DMC</td>\n",
       "      <td>0.157956</td>\n",
       "    </tr>\n",
       "    <tr>\n",
       "      <th>4</th>\n",
       "      <td>FFMC</td>\n",
       "      <td>0.117785</td>\n",
       "    </tr>\n",
       "    <tr>\n",
       "      <th>2</th>\n",
       "      <td>Ws</td>\n",
       "      <td>0.003026</td>\n",
       "    </tr>\n",
       "    <tr>\n",
       "      <th>1</th>\n",
       "      <td>RH</td>\n",
       "      <td>0.002921</td>\n",
       "    </tr>\n",
       "    <tr>\n",
       "      <th>0</th>\n",
       "      <td>Temperature</td>\n",
       "      <td>0.000773</td>\n",
       "    </tr>\n",
       "    <tr>\n",
       "      <th>7</th>\n",
       "      <td>Region</td>\n",
       "      <td>0.000146</td>\n",
       "    </tr>\n",
       "    <tr>\n",
       "      <th>3</th>\n",
       "      <td>Rain</td>\n",
       "      <td>0.000042</td>\n",
       "    </tr>\n",
       "  </tbody>\n",
       "</table>\n",
       "</div>"
      ],
      "text/plain": [
       "       feature  importance\n",
       "6          ISI    0.717350\n",
       "5          DMC    0.157956\n",
       "4         FFMC    0.117785\n",
       "2           Ws    0.003026\n",
       "1           RH    0.002921\n",
       "0  Temperature    0.000773\n",
       "7       Region    0.000146\n",
       "3         Rain    0.000042"
      ]
     },
     "execution_count": 27,
     "metadata": {},
     "output_type": "execute_result"
    }
   ],
   "source": [
    "feature_importances = Random_rf.best_estimator_.feature_importances_\n",
    "importance_df = pd.DataFrame({'feature': X_train.columns, 'importance':feature_importances}).sort_values('importance', ascending=False)\n",
    "importance_df\n"
   ]
  },
  {
   "cell_type": "code",
   "execution_count": 28,
   "id": "1bc7042e-ee39-4342-9ec6-c0ae146c06af",
   "metadata": {},
   "outputs": [
    {
     "data": {
      "text/plain": [
       "Text(0, 0.5, 'Features')"
      ]
     },
     "execution_count": 28,
     "metadata": {},
     "output_type": "execute_result"
    },
    {
     "data": {
      "image/png": "[encoded data removed]",
      "text/plain": [
       "<Figure size 1200x600 with 1 Axes>"
      ]
     },
     "metadata": {},
     "output_type": "display_data"
    }
   ],
   "source": [
    "plt.figure(figsize=(12,6))\n",
    "sns.set_style('ticks')\n",
    "ax = sns.barplot(data=importance_df, x='importance', y='feature', ec='black')\n",
    "ax.set_title('Top 10 Important Features', weight='bold', fontsize=15)\n",
    "ax.set_xlabel('Feature Importance %', weight='bold')\n",
    "ax.set_ylabel('Features', weight='bold')"
   ]
  },
  {
   "cell_type": "markdown",
   "id": "fcff551a-c7d4-45e6-93f9-96beb8154506",
   "metadata": {},
   "source": [
    "## Model for Deployment "
   ]
  },
  {
   "cell_type": "code",
   "execution_count": 29,
   "id": "9c8cbeca-767a-4480-a5f0-0c51653ae2c3",
   "metadata": {},
   "outputs": [],
   "source": [
    "Xtrain_new = X_train.drop(['Rain', 'Region', 'RH'], axis=1)\n",
    "Xtest_new = X_test.drop(['Rain', 'Region', 'RH'],axis=1)\n"
   ]
  },
  {
   "cell_type": "code",
   "execution_count": 30,
   "id": "b1cda8f1-bd82-47de-85c8-ce51871ede41",
   "metadata": {},
   "outputs": [
    {
     "data": {
      "text/plain": [
       "Index(['Temperature', 'Ws', 'FFMC', 'DMC', 'ISI'], dtype='object')"
      ]
     },
     "execution_count": 30,
     "metadata": {},
     "output_type": "execute_result"
    }
   ],
   "source": [
    "Xtrain_new.columns"
   ]
  },
  {
   "cell_type": "code",
   "execution_count": 31,
   "id": "967f525f-4e31-4278-aeae-ef33619b7dd8",
   "metadata": {},
   "outputs": [],
   "source": [
    "Xtrain_new_scaled, Xtest_new_scaled = scaler_standard(Xtrain_new, Xtest_new)"
   ]
  },
  {
   "cell_type": "code",
   "execution_count": 32,
   "id": "e927c85d-93e8-4411-a562-369dccb2e5e2",
   "metadata": {},
   "outputs": [
    {
     "name": "stdout",
     "output_type": "stream",
     "text": [
      "Random Forest Tuned + Refined Data\n",
      "R2 Score Value 0.9717\n",
      "MAE value: 0.679606\n"
     ]
    }
   ],
   "source": [
    "best_random_grid.fit(Xtrain_new_scaled, y_train)\n",
    "bestrf_pred = best_random_grid.predict(Xtest_new_scaled)\n",
    "mae = MAE(y_test, bestrf_pred)\n",
    "r2 = r2_score(y_test, bestrf_pred)\n",
    "\n",
    "print('Random Forest Tuned + Refined Data')\n",
    "print('R2 Score Value {:.4f}'.format(r2))\n",
    "print('MAE value: {:4f}'.format(mae))\n"
   ]
  },
  {
   "cell_type": "markdown",
   "id": "6a736b14-b3cd-4fd0-bb3f-a48daadfd5c3",
   "metadata": {},
   "source": [
    "# Classification"
   ]
  },
  {
   "cell_type": "code",
   "execution_count": 33,
   "id": "9512fe03-7450-4b84-a24d-ce97a0fd8a7b",
   "metadata": {},
   "outputs": [
    {
     "name": "stdout",
     "output_type": "stream",
     "text": [
      "Requirement already satisfied: xgboost in c:\\users\\supre\\anaconda3\\lib\\site-packages (2.1.3)\n",
      "Requirement already satisfied: numpy in c:\\users\\supre\\anaconda3\\lib\\site-packages (from xgboost) (1.26.4)\n",
      "Requirement already satisfied: scipy in c:\\users\\supre\\anaconda3\\lib\\site-packages (from xgboost) (1.11.4)\n",
      "Note: you may need to restart the kernel to use updated packages.\n"
     ]
    }
   ],
   "source": [
    "pip install xgboost"
   ]
  },
  {
   "cell_type": "code",
   "execution_count": 34,
   "id": "1e233379-d03c-480c-9f11-6102db97e9f2",
   "metadata": {},
   "outputs": [],
   "source": [
    "from sklearn.linear_model import LogisticRegression\n",
    "from sklearn.metrics import classification_report\n",
    "from sklearn.metrics import accuracy_score\n",
    "from sklearn.metrics import ConfusionMatrixDisplay\n",
    "from sklearn.neighbors import KNeighborsClassifier\n",
    "from xgboost import XGBClassifier"
   ]
  },
  {
   "cell_type": "code",
   "execution_count": 35,
   "id": "a93cfbe7-6d24-4548-a1e0-488cf8989620",
   "metadata": {},
   "outputs": [],
   "source": [
    "X = df.drop('Classes', axis=1)\n",
    "y = df['Classes']"
   ]
  },
  {
   "cell_type": "code",
   "execution_count": 36,
   "id": "ef92beec-ff0b-4e92-a5d8-1e5550555970",
   "metadata": {},
   "outputs": [
    {
     "data": {
      "text/plain": [
       "((170, 11), (73, 11))"
      ]
     },
     "execution_count": 36,
     "metadata": {},
     "output_type": "execute_result"
    }
   ],
   "source": [
    "X_train, X_test, y_train, y_test = train_test_split(X,y, test_size=0.3, random_state=36)\n",
    "X_train.shape, X_test.shape"
   ]
  },
  {
   "cell_type": "code",
   "execution_count": 37,
   "id": "b9a69325-7d08-46b9-b815-6425c60895d4",
   "metadata": {},
   "outputs": [
    {
     "data": {
      "image/png": "[encoded data removed]",
      "text/plain": [
       "<Figure size 1200x1000 with 2 Axes>"
      ]
     },
     "metadata": {},
     "output_type": "display_data"
    }
   ],
   "source": [
    "plt.figure(figsize=(12,10))\n",
    "cor = X_train.corr()\n",
    "sns.heatmap(cor, annot=True)\n",
    "plt.show()\n"
   ]
  },
  {
   "cell_type": "code",
   "execution_count": 38,
   "id": "bc5c3013-0f4c-4c37-a91e-e6692e45e487",
   "metadata": {},
   "outputs": [
    {
     "data": {
      "text/plain": [
       "{'BUI', 'DC', 'FWI'}"
      ]
     },
     "execution_count": 38,
     "metadata": {},
     "output_type": "execute_result"
    }
   ],
   "source": [
    "corr_features = correlation(X_train, 0.75)\n",
    "corr_features"
   ]
  },
  {
   "cell_type": "code",
   "execution_count": 39,
   "id": "369701f6-e8a9-4da2-8633-5821fe96f818",
   "metadata": {},
   "outputs": [
    {
     "data": {
      "text/plain": [
       "((170, 8), (73, 8))"
      ]
     },
     "execution_count": 39,
     "metadata": {},
     "output_type": "execute_result"
    }
   ],
   "source": [
    "X_train.drop(corr_features, axis=1, inplace=True)\n",
    "X_test.drop(corr_features, axis=1, inplace=True)\n",
    "X_train.shape, X_test.shape"
   ]
  },
  {
   "cell_type": "code",
   "execution_count": 40,
   "id": "fe986e81-13d2-4355-a720-06c8d80d0e0b",
   "metadata": {},
   "outputs": [],
   "source": [
    "X_train_scaled, X_test_scaled = scaler_standard(X_train, X_test)"
   ]
  },
  {
   "cell_type": "markdown",
   "id": "973a8270-8e63-4b67-bb09-b109b0d06df3",
   "metadata": {},
   "source": [
    "## Logistic Regression"
   ]
  },
  {
   "cell_type": "code",
   "execution_count": 41,
   "id": "f97f3153-940b-4565-aa7b-c6533aff3eaa",
   "metadata": {},
   "outputs": [
    {
     "name": "stdout",
     "output_type": "stream",
     "text": [
      "Logistic Regression\n",
      "Accuracy Score value: 0.9589\n",
      "              precision    recall  f1-score   support\n",
      "\n",
      "           0       0.92      0.96      0.94        25\n",
      "           1       0.98      0.96      0.97        48\n",
      "\n",
      "    accuracy                           0.96        73\n",
      "   macro avg       0.95      0.96      0.95        73\n",
      "weighted avg       0.96      0.96      0.96        73\n",
      "\n"
     ]
    }
   ],
   "source": [
    "loreg = LogisticRegression(max_iter=200)\n",
    "loreg.fit(X_train_scaled, y_train)\n",
    "loreg_pred = loreg.predict(X_test_scaled)\n",
    "score = accuracy_score(y_test, loreg_pred)\n",
    "cr = classification_report(y_test, loreg_pred)\n",
    "\n",
    "print(\"Logistic Regression\")\n",
    "print (\"Accuracy Score value: {:.4f}\".format(score))\n",
    "print (cr)"
   ]
  },
  {
   "cell_type": "code",
   "execution_count": 42,
   "id": "5fd319a8-7ebc-461f-8095-786057f79764",
   "metadata": {},
   "outputs": [
    {
     "data": {
      "image/png": "[encoded data removed]",
      "text/plain": [
       "<Figure size 640x480 with 2 Axes>"
      ]
     },
     "metadata": {},
     "output_type": "display_data"
    }
   ],
   "source": [
    "loreg_cm = ConfusionMatrixDisplay.from_estimator(loreg, X_test_scaled, y_test)"
   ]
  },
  {
   "cell_type": "markdown",
   "id": "173a04c2-221c-4f6d-be96-423e40d7ffb7",
   "metadata": {},
   "source": [
    "## Decision Tree"
   ]
  },
  {
   "cell_type": "code",
   "execution_count": 43,
   "id": "3c8fba0e-6d6a-4eae-a286-d9e22daa69ae",
   "metadata": {},
   "outputs": [
    {
     "name": "stdout",
     "output_type": "stream",
     "text": [
      "Decision Tree Classifier\n",
      "Accuracy Score value: 0.9726\n",
      "              precision    recall  f1-score   support\n",
      "\n",
      "           0       0.93      1.00      0.96        25\n",
      "           1       1.00      0.96      0.98        48\n",
      "\n",
      "    accuracy                           0.97        73\n",
      "   macro avg       0.96      0.98      0.97        73\n",
      "weighted avg       0.97      0.97      0.97        73\n",
      "\n"
     ]
    }
   ],
   "source": [
    "dtc = DecisionTreeClassifier()\n",
    "dtc.fit(X_train_scaled, y_train)\n",
    "dtc_pred = dtc.predict(X_test_scaled)\n",
    "score = accuracy_score(y_test, dtc_pred)\n",
    "cr = classification_report(y_test, dtc_pred)\n",
    "print(\"Decision Tree Classifier\")\n",
    "print (\"Accuracy Score value: {:.4f}\".format(score))\n",
    "print (cr)"
   ]
  },
  {
   "cell_type": "code",
   "execution_count": 44,
   "id": "09ae12d3-6385-4e9c-bb63-a8c9ab45bc7a",
   "metadata": {},
   "outputs": [
    {
     "data": {
      "image/png": "[encoded data removed]",
      "text/plain": [
       "<Figure size 640x480 with 2 Axes>"
      ]
     },
     "metadata": {},
     "output_type": "display_data"
    }
   ],
   "source": [
    "dt_cm = ConfusionMatrixDisplay.from_estimator(dtc, X_test_scaled, y_test)"
   ]
  },
  {
   "cell_type": "markdown",
   "id": "050bfee8-0428-4bf7-a4e3-d4c558b4dc53",
   "metadata": {},
   "source": [
    "## Random Forest"
   ]
  },
  {
   "cell_type": "code",
   "execution_count": 45,
   "id": "4a9ac2d4-06ff-4276-8a0c-7f4f22326916",
   "metadata": {},
   "outputs": [
    {
     "name": "stdout",
     "output_type": "stream",
     "text": [
      "Random Forest\n",
      "Accuracy Score value: 0.9589\n",
      "              precision    recall  f1-score   support\n",
      "\n",
      "           0       0.89      1.00      0.94        25\n",
      "           1       1.00      0.94      0.97        48\n",
      "\n",
      "    accuracy                           0.96        73\n",
      "   macro avg       0.95      0.97      0.96        73\n",
      "weighted avg       0.96      0.96      0.96        73\n",
      "\n"
     ]
    }
   ],
   "source": [
    "rfc = RandomForestClassifier()\n",
    "rfc.fit(X_train_scaled, y_train)\n",
    "rfc_pred = rfc.predict(X_test_scaled)\n",
    "score = accuracy_score(y_test, rfc_pred)\n",
    "cr = classification_report(y_test, rfc_pred)\n",
    "print(\"Random Forest\")\n",
    "print (\"Accuracy Score value: {:.4f}\".format(score))\n",
    "print (cr)"
   ]
  },
  {
   "cell_type": "code",
   "execution_count": 46,
   "id": "cbf2da8d-e207-4b50-a3d4-89d88429ec49",
   "metadata": {},
   "outputs": [
    {
     "data": {
      "image/png": "[encoded data removed]",
      "text/plain": [
       "<Figure size 640x480 with 2 Axes>"
      ]
     },
     "metadata": {},
     "output_type": "display_data"
    }
   ],
   "source": [
    "rf_cm = ConfusionMatrixDisplay.from_estimator(rfc, X_test_scaled, y_test)"
   ]
  },
  {
   "cell_type": "markdown",
   "id": "739a4de7-a0a4-4c44-bb3c-8756454c6c0b",
   "metadata": {},
   "source": [
    "### Defining my own function"
   ]
  },
  {
   "cell_type": "code",
   "execution_count": 47,
   "id": "c8fc4226-c32a-4a91-9027-ec5499d8c0b7",
   "metadata": {},
   "outputs": [],
   "source": [
    "from sklearn.ensemble import RandomForestClassifier\n",
    "from sklearn.metrics import accuracy_score, classification_report, ConfusionMatrixDisplay\n",
    "import matplotlib.pyplot as plt\n",
    "def evaluate_classifier(X_train, y_train, X_test, y_test, classifier=None, classifier_name=\"Classifier\"):\n",
    "    \"\"\"\n",
    "    Trains a classifier, evaluates it, and prints the accuracy, classification report, and confusion matrix.\n",
    "    Parameters:\n",
    "    - X_train: Training feature set.\n",
    "    - y_train: Training target labels.\n",
    "    - X_test: Test feature set.\n",
    "    - y_test: Test target labels.\n",
    "    - classifier: The classifier object (default is RandomForestClassifier).\n",
    "    - classifier_name: Name of the classifier for display purposes.\n",
    "    \"\"\"\n",
    "    # Use RandomForestClassifier as default if no classifier is provided\n",
    "    if classifier is None:\n",
    "        classifier = RandomForestClassifier()\n",
    "\n",
    "    # Train the classifier\n",
    "    classifier.fit(X_train, y_train)\n",
    "\n",
    "    # Make predictions\n",
    "    y_pred = classifier.predict(X_test)\n",
    "\n",
    "    # Calculate accuracy\n",
    "    accuracy = accuracy_score(y_test, y_pred)\n",
    "\n",
    "    # Generate classification report\n",
    "    clf_report = classification_report(y_test, y_pred)\n",
    "\n",
    "    # Print results\n",
    "    print(f\"{classifier_name} Results:\")\n",
    "    print(f\"Accuracy Score: {accuracy:.4f}\")\n",
    "    print(\"Classification Report:\")\n",
    "    print(clf_report)\n",
    "\n",
    "    # Plot confusion matrix\n",
    "    ConfusionMatrixDisplay.from_estimator(classifier, X_test, y_test)\n",
    "    plt.title(f\"Confusion Matrix for {classifier_name}\")\n",
    "    plt.show()\n",
    "\n",
    "# Example usage:\n",
    "# evaluate_classifier(X_train_scaled, y_train, X_test_scaled, y_test, classifier_name=\"Random Forest\")"
   ]
  },
  {
   "cell_type": "code",
   "execution_count": 48,
   "id": "38dcebf1-c2c5-4ebf-bca4-738a4faa4e70",
   "metadata": {},
   "outputs": [
    {
     "name": "stdout",
     "output_type": "stream",
     "text": [
      "RandomForestClassifier Results:\n",
      "Accuracy Score: 0.9589\n",
      "Classification Report:\n",
      "              precision    recall  f1-score   support\n",
      "\n",
      "           0       0.89      1.00      0.94        25\n",
      "           1       1.00      0.94      0.97        48\n",
      "\n",
      "    accuracy                           0.96        73\n",
      "   macro avg       0.95      0.97      0.96        73\n",
      "weighted avg       0.96      0.96      0.96        73\n",
      "\n"
     ]
    },
    {
     "data": {
      "image/png": "[encoded data removed]",
      "text/plain": [
       "<Figure size 640x480 with 2 Axes>"
      ]
     },
     "metadata": {},
     "output_type": "display_data"
    }
   ],
   "source": [
    "rf_func = RandomForestClassifier()\n",
    "evaluate_classifier(X_train_scaled, y_train, X_test_scaled, y_test, classifier=rf_func, classifier_name = 'RandomForestClassifier')"
   ]
  },
  {
   "cell_type": "markdown",
   "id": "d0185504-07a1-499b-be6a-f7558d927fed",
   "metadata": {},
   "source": [
    "## K-Neighbors Classifier"
   ]
  },
  {
   "cell_type": "code",
   "execution_count": 49,
   "id": "c89207c4-9103-4520-8e6b-cd85d75e97af",
   "metadata": {},
   "outputs": [
    {
     "name": "stdout",
     "output_type": "stream",
     "text": [
      "KNeighborsClassifier Results:\n",
      "Accuracy Score: 0.9452\n",
      "Classification Report:\n",
      "              precision    recall  f1-score   support\n",
      "\n",
      "           0       0.96      0.88      0.92        25\n",
      "           1       0.94      0.98      0.96        48\n",
      "\n",
      "    accuracy                           0.95        73\n",
      "   macro avg       0.95      0.93      0.94        73\n",
      "weighted avg       0.95      0.95      0.94        73\n",
      "\n"
     ]
    },
    {
     "data": {
      "image/png": "[encoded data removed]",
      "text/plain": [
       "<Figure size 640x480 with 2 Axes>"
      ]
     },
     "metadata": {},
     "output_type": "display_data"
    }
   ],
   "source": [
    "from sklearn.neighbors import KNeighborsClassifier\n",
    "knn = KNeighborsClassifier()\n",
    "evaluate_classifier(X_train_scaled, y_train, X_test_scaled, y_test, classifier=knn,  classifier_name='KNeighborsClassifier')"
   ]
  },
  {
   "cell_type": "code",
   "execution_count": 50,
   "id": "66bc1dc6-0820-465a-9be9-017cbded2c71",
   "metadata": {},
   "outputs": [
    {
     "name": "stdout",
     "output_type": "stream",
     "text": [
      "XGBClassifier Results:\n",
      "Accuracy Score: 0.9726\n",
      "Classification Report:\n",
      "              precision    recall  f1-score   support\n",
      "\n",
      "           0       0.93      1.00      0.96        25\n",
      "           1       1.00      0.96      0.98        48\n",
      "\n",
      "    accuracy                           0.97        73\n",
      "   macro avg       0.96      0.98      0.97        73\n",
      "weighted avg       0.97      0.97      0.97        73\n",
      "\n"
     ]
    },
    {
     "data": {
      "image/png": "[encoded data removed]",
      "text/plain": [
       "<Figure size 640x480 with 2 Axes>"
      ]
     },
     "metadata": {},
     "output_type": "display_data"
    }
   ],
   "source": [
    "xgb = XGBClassifier()\n",
    "evaluate_classifier(X_train_scaled, y_train, X_test_scaled, y_test, classifier=xgb ,classifier_name='XGBClassifier')"
   ]
  },
  {
   "cell_type": "code",
   "execution_count": 74,
   "id": "406d972a-80bd-4f0a-ac96-c1f373803299",
   "metadata": {},
   "outputs": [
    {
     "name": "stdout",
     "output_type": "stream",
     "text": [
      "XGboost Classifier\n",
      "Accuracy Score value: 0.9726\n",
      "              precision    recall  f1-score   support\n",
      "\n",
      "           0       0.93      1.00      0.96        25\n",
      "           1       1.00      0.96      0.98        48\n",
      "\n",
      "    accuracy                           0.97        73\n",
      "   macro avg       0.96      0.98      0.97        73\n",
      "weighted avg       0.97      0.97      0.97        73\n",
      "\n"
     ]
    }
   ],
   "source": [
    "# Import KNeighborsClassifier to Train from SKlearn\n",
    "xgb = XGBClassifier()\n",
    "xgb.fit(X_train_scaled,y_train)\n",
    "xgb_pred = xgb.predict(X_test_scaled)\n",
    "score = accuracy_score(y_test, xgb_pred)\n",
    "cr = classification_report(y_test, xgb_pred)\n",
    "\n",
    "print(\"XGboost Classifier\")\n",
    "print (\"Accuracy Score value: {:.4f}\".format(score))\n",
    "print (cr)"
   ]
  },
  {
   "cell_type": "code",
   "execution_count": 75,
   "id": "36484e0a-3646-4337-a4eb-9d4461d8c678",
   "metadata": {},
   "outputs": [
    {
     "data": {
      "image/png": "[encoded data removed]",
      "text/plain": [
       "<Figure size 640x480 with 2 Axes>"
      ]
     },
     "metadata": {},
     "output_type": "display_data"
    }
   ],
   "source": [
    "xgb_cm = ConfusionMatrixDisplay.from_estimator(xgb, X_test_scaled, y_test)"
   ]
  },
  {
   "cell_type": "markdown",
   "id": "a242590e-6ffa-434b-bdd2-ffa2a3f46f5f",
   "metadata": {},
   "source": [
    "## Tuning Classification Models"
   ]
  },
  {
   "cell_type": "markdown",
   "id": "a471b968-5397-4424-b63b-4c0068d561b3",
   "metadata": {},
   "source": [
    "### Tuning XGboost"
   ]
  },
  {
   "cell_type": "markdown",
   "id": "a785feee-7a91-4251-9d66-3c7d383bac29",
   "metadata": {},
   "source": [
    "params = {\n",
    "    'learning_rate' : (np.linspace(0,10,100)),\n",
    "    'max_depth' : np.linspace(1,50,25, dtype=int),\n",
    "    'min_child_weight' : [1,3,5,7],\n",
    "    'gamma': [0.0, 0.1, 0.2, 0.3, 0.4],\n",
    "    'colsample_bytree': [0.3, 0.4, 0.5, 0.7]}\n",
    "Random_xgb = RandomizedSearchCV(xgb, params, cv=10, n_jobs=-1)\n",
    "Random_xgb.fit(X_train_scaled, y_train).best_estimator_"
   ]
  },
  {
   "cell_type": "markdown",
   "id": "d4fae80d-03f2-49a6-bd78-91e7d33d28ee",
   "metadata": {},
   "source": [
    "best_xgb = Random_xgb.best_estimator_\n",
    "best_xgb.score(X_test_scaled, y_test)\n",
    "bestxgb_pred = best_xgb.predict(X_test_scaled)\n",
    "cr = classification_report(y_test, bestxgb_pred)\n",
    "print('Final XGB')\n",
    "print('Accuracy Score value: {:4f}'.format(score))\n",
    "print(cr)"
   ]
  },
  {
   "cell_type": "code",
   "execution_count": 76,
   "id": "3469f0b3-9986-4180-b2eb-caaf89b9b7d0",
   "metadata": {},
   "outputs": [
    {
     "name": "stdout",
     "output_type": "stream",
     "text": [
      "FINAL XGB\n",
      "Accuracy Score value: 0.9726\n",
      "              precision    recall  f1-score   support\n",
      "\n",
      "           0       0.89      1.00      0.94        25\n",
      "           1       1.00      0.94      0.97        48\n",
      "\n",
      "    accuracy                           0.96        73\n",
      "   macro avg       0.95      0.97      0.96        73\n",
      "weighted avg       0.96      0.96      0.96        73\n",
      "\n"
     ]
    }
   ],
   "source": [
    "params={\n",
    " \"learning_rate\"    : (np.linspace(0,10, 100)) ,\n",
    " \"max_depth\"        : (np.linspace(1,50, 25,dtype=int)),\n",
    " \"min_child_weight\" : [1, 3, 5, 7],\n",
    " \"gamma\"            : [0.0, 0.1, 0.2 , 0.3, 0.4],\n",
    " \"colsample_bytree\" : [0.3, 0.4, 0.5 , 0.7]}\n",
    "Random_xgb = RandomizedSearchCV(xgb, params, cv = 10,n_jobs = -1)\n",
    "Random_xgb.fit(X_train_scaled, y_train).best_estimator_\n",
    "best_xgb = Random_xgb.best_estimator_\n",
    "best_xgb.score(X_test_scaled,y_test)\n",
    "bestxgb_pred = best_xgb.predict(X_test_scaled)\n",
    "cr = classification_report(y_test,bestxgb_pred)\n",
    "print(\"FINAL XGB\")\n",
    "print (\"Accuracy Score value: {:.4f}\".format(score))\n",
    "print (cr)"
   ]
  },
  {
   "cell_type": "markdown",
   "id": "0a42c4db-d3d0-4429-ac7c-1c9af68d282b",
   "metadata": {},
   "source": [
    "### Tuning Random Forest Classifier"
   ]
  },
  {
   "cell_type": "code",
   "execution_count": 53,
   "id": "2f90f209-bb2f-48c4-aae7-4a9de3ec3b09",
   "metadata": {},
   "outputs": [
    {
     "data": {
      "text/html": [
       "<style>#sk-container-id-4 {color: black;background-color: white;}#sk-container-id-4 pre{padding: 0;}#sk-container-id-4 div.sk-toggleable {background-color: white;}#sk-container-id-4 label.sk-toggleable__label {cursor: pointer;display: block;width: 100%;margin-bottom: 0;padding: 0.3em;box-sizing: border-box;text-align: center;}#sk-container-id-4 label.sk-toggleable__label-arrow:before {content: \"▸\";float: left;margin-right: 0.25em;color: #696969;}#sk-container-id-4 label.sk-toggleable__label-arrow:hover:before {color: black;}#sk-container-id-4 div.sk-estimator:hover label.sk-toggleable__label-arrow:before {color: black;}#sk-container-id-4 div.sk-toggleable__content {max-height: 0;max-width: 0;overflow: hidden;text-align: left;background-color: #f0f8ff;}#sk-container-id-4 div.sk-toggleable__content pre {margin: 0.2em;color: black;border-radius: 0.25em;background-color: #f0f8ff;}#sk-container-id-4 input.sk-toggleable__control:checked~div.sk-toggleable__content {max-height: 200px;max-width: 100%;overflow: auto;}#sk-container-id-4 input.sk-toggleable__control:checked~label.sk-toggleable__label-arrow:before {content: \"▾\";}#sk-container-id-4 div.sk-estimator input.sk-toggleable__control:checked~label.sk-toggleable__label {background-color: #d4ebff;}#sk-container-id-4 div.sk-label input.sk-toggleable__control:checked~label.sk-toggleable__label {background-color: #d4ebff;}#sk-container-id-4 input.sk-hidden--visually {border: 0;clip: rect(1px 1px 1px 1px);clip: rect(1px, 1px, 1px, 1px);height: 1px;margin: -1px;overflow: hidden;padding: 0;position: absolute;width: 1px;}#sk-container-id-4 div.sk-estimator {font-family: monospace;background-color: #f0f8ff;border: 1px dotted black;border-radius: 0.25em;box-sizing: border-box;margin-bottom: 0.5em;}#sk-container-id-4 div.sk-estimator:hover {background-color: #d4ebff;}#sk-container-id-4 div.sk-parallel-item::after {content: \"\";width: 100%;border-bottom: 1px solid gray;flex-grow: 1;}#sk-container-id-4 div.sk-label:hover label.sk-toggleable__label {background-color: #d4ebff;}#sk-container-id-4 div.sk-serial::before {content: \"\";position: absolute;border-left: 1px solid gray;box-sizing: border-box;top: 0;bottom: 0;left: 50%;z-index: 0;}#sk-container-id-4 div.sk-serial {display: flex;flex-direction: column;align-items: center;background-color: white;padding-right: 0.2em;padding-left: 0.2em;position: relative;}#sk-container-id-4 div.sk-item {position: relative;z-index: 1;}#sk-container-id-4 div.sk-parallel {display: flex;align-items: stretch;justify-content: center;background-color: white;position: relative;}#sk-container-id-4 div.sk-item::before, #sk-container-id-4 div.sk-parallel-item::before {content: \"\";position: absolute;border-left: 1px solid gray;box-sizing: border-box;top: 0;bottom: 0;left: 50%;z-index: -1;}#sk-container-id-4 div.sk-parallel-item {display: flex;flex-direction: column;z-index: 1;position: relative;background-color: white;}#sk-container-id-4 div.sk-parallel-item:first-child::after {align-self: flex-end;width: 50%;}#sk-container-id-4 div.sk-parallel-item:last-child::after {align-self: flex-start;width: 50%;}#sk-container-id-4 div.sk-parallel-item:only-child::after {width: 0;}#sk-container-id-4 div.sk-dashed-wrapped {border: 1px dashed gray;margin: 0 0.4em 0.5em 0.4em;box-sizing: border-box;padding-bottom: 0.4em;background-color: white;}#sk-container-id-4 div.sk-label label {font-family: monospace;font-weight: bold;display: inline-block;line-height: 1.2em;}#sk-container-id-4 div.sk-label-container {text-align: center;}#sk-container-id-4 div.sk-container {/* jupyter's `normalize.less` sets `[hidden] { display: none; }` but bootstrap.min.css set `[hidden] { display: none !important; }` so we also need the `!important` here to be able to override the default hidden behavior on the sphinx rendered scikit-learn.org. See: https://github.com/scikit-learn/scikit-learn/issues/21755 */display: inline-block !important;position: relative;}#sk-container-id-4 div.sk-text-repr-fallback {display: none;}</style><div id=\"sk-container-id-4\" class=\"sk-top-container\"><div class=\"sk-text-repr-fallback\"><pre>RandomForestClassifier(criterion=&#x27;entropy&#x27;, max_depth=5, max_features=&#x27;log2&#x27;,\n",
       "                       min_samples_leaf=6, min_samples_split=4,\n",
       "                       n_estimators=115)</pre><b>In a Jupyter environment, please rerun this cell to show the HTML representation or trust the notebook. <br />On GitHub, the HTML representation is unable to render, please try loading this page with nbviewer.org.</b></div><div class=\"sk-container\" hidden><div class=\"sk-item\"><div class=\"sk-estimator sk-toggleable\"><input class=\"sk-toggleable__control sk-hidden--visually\" id=\"sk-estimator-id-8\" type=\"checkbox\" checked><label for=\"sk-estimator-id-8\" class=\"sk-toggleable__label sk-toggleable__label-arrow\">RandomForestClassifier</label><div class=\"sk-toggleable__content\"><pre>RandomForestClassifier(criterion=&#x27;entropy&#x27;, max_depth=5, max_features=&#x27;log2&#x27;,\n",
       "                       min_samples_leaf=6, min_samples_split=4,\n",
       "                       n_estimators=115)</pre></div></div></div></div></div>"
      ],
      "text/plain": [
       "RandomForestClassifier(criterion='entropy', max_depth=5, max_features='log2',\n",
       "                       min_samples_leaf=6, min_samples_split=4,\n",
       "                       n_estimators=115)"
      ]
     },
     "execution_count": 53,
     "metadata": {},
     "output_type": "execute_result"
    }
   ],
   "source": [
    "params = {'n_estimators' : [90,100,115,130],\n",
    "          'criterion': ['gini', 'entropy'],\n",
    "          'max_depth': range(2,20,1),\n",
    "          'min_samples_leaf' : range(1,10,1),\n",
    "          'min_samples_split': range(2,10,1),\n",
    "          'max_features': ['auto', 'log2']}\n",
    "random_rf = RandomizedSearchCV(rfc, params, cv=10, n_jobs=-1)\n",
    "random_rf.fit(X_train_scaled, y_train).best_estimator_\n"
   ]
  },
  {
   "cell_type": "code",
   "execution_count": 54,
   "id": "75fc41fb-242a-4ee9-b831-c4ddb2f4f561",
   "metadata": {},
   "outputs": [
    {
     "name": "stdout",
     "output_type": "stream",
     "text": [
      "Final Random Forest\n",
      "Accuracy Score value: 0.958904\n",
      "              precision    recall  f1-score   support\n",
      "\n",
      "           0       0.89      1.00      0.94        25\n",
      "           1       1.00      0.94      0.97        48\n",
      "\n",
      "    accuracy                           0.96        73\n",
      "   macro avg       0.95      0.97      0.96        73\n",
      "weighted avg       0.96      0.96      0.96        73\n",
      "\n"
     ]
    }
   ],
   "source": [
    "best_rf = random_rf.best_estimator_\n",
    "best_rf.score(X_test_scaled, y_test)\n",
    "bestrf_pred = best_rf.predict(X_test_scaled)\n",
    "cr = classification_report(y_test, bestrf_pred)\n",
    "print('Final Random Forest')\n",
    "print('Accuracy Score value: {:4f}'.format(score))\n",
    "print(cr)"
   ]
  },
  {
   "cell_type": "markdown",
   "id": "39d3cd74-12f1-4da1-8184-2a78955bdff9",
   "metadata": {},
   "source": [
    "### CV Scores"
   ]
  },
  {
   "cell_type": "code",
   "execution_count": 57,
   "id": "ebaaba5e-ced9-4f7c-bd0f-950a382879a5",
   "metadata": {},
   "outputs": [],
   "source": [
    "from sklearn.model_selection import StratifiedKFold, cross_val_score\n",
    "skfold = StratifiedKFold(n_splits=10, shuffle=True, random_state=36)\n"
   ]
  },
  {
   "cell_type": "code",
   "execution_count": 83,
   "id": "a8e024f9-fe73-436d-8467-acaa85bdfd26",
   "metadata": {},
   "outputs": [
    {
     "name": "stdout",
     "output_type": "stream",
     "text": [
      "CV Score XBG Tuned 0.979333\n"
     ]
    }
   ],
   "source": [
    "cv_xgb = cross_val_score(best_xgb, X, y, cv=skfold, scoring='accuracy').mean()\n",
    "print('CV Score XBG Tuned {:4f}'.format(cv_xgb))"
   ]
  },
  {
   "cell_type": "code",
   "execution_count": 67,
   "id": "7cd87eee-aea3-4ab1-8c20-723f88a24a21",
   "metadata": {},
   "outputs": [
    {
     "name": "stdout",
     "output_type": "stream",
     "text": [
      "CV Score Random Forest Tuned 0.966833\n"
     ]
    }
   ],
   "source": [
    "cv_rf = cross_val_score(rfc, X, y, cv=skfold, scoring='accuracy').mean()\n",
    "print('CV Score Random Forest Tuned {:4f}'.format(cv_rf))"
   ]
  },
  {
   "cell_type": "code",
   "execution_count": 66,
   "id": "b09f7da3-3c95-46e9-9bb9-4cbd683bb603",
   "metadata": {},
   "outputs": [
    {
     "name": "stdout",
     "output_type": "stream",
     "text": [
      "CV Score Logistic Regression 0.971000\n"
     ]
    }
   ],
   "source": [
    "cv_lg = cross_val_score(loreg, X, y, cv=skfold, scoring='accuracy').mean()\n",
    "print('CV Score Logistic Regression {:4f}'.format(cv_lg))"
   ]
  },
  {
   "cell_type": "code",
   "execution_count": 68,
   "id": "2382e32b-e645-4712-8a68-e23b5e7ebb9d",
   "metadata": {},
   "outputs": [
    {
     "name": "stdout",
     "output_type": "stream",
     "text": [
      "CV Score Decision Tree 0.971000\n"
     ]
    }
   ],
   "source": [
    "cv_dt = cross_val_score(dtc, X, y, cv=skfold, scoring='accuracy').mean()\n",
    "print('CV Score Decision Tree {:4f}'.format(cv_dt))"
   ]
  },
  {
   "cell_type": "code",
   "execution_count": 70,
   "id": "69d5815d-2118-4b79-ac1b-42a8add8f30b",
   "metadata": {},
   "outputs": [
    {
     "name": "stdout",
     "output_type": "stream",
     "text": [
      "CV Score KNN Classifier 0.896833\n"
     ]
    }
   ],
   "source": [
    "cv_knn = cross_val_score(knn, X, y, cv=skfold, scoring = 'accuracy').mean()\n",
    "print('CV Score KNN Classifier {:4f}'.format(cv_knn))"
   ]
  },
  {
   "cell_type": "markdown",
   "id": "e157368b-0efd-4ede-b883-c5c70b63bd16",
   "metadata": {},
   "source": [
    "### Feature Selection "
   ]
  },
  {
   "cell_type": "code",
   "execution_count": 81,
   "id": "466710a1-2595-4bff-b74a-ccd52d4119af",
   "metadata": {},
   "outputs": [
    {
     "data": {
      "text/html": [
       "<div>\n",
       "<style scoped>\n",
       "    .dataframe tbody tr th:only-of-type {\n",
       "        vertical-align: middle;\n",
       "    }\n",
       "\n",
       "    .dataframe tbody tr th {\n",
       "        vertical-align: top;\n",
       "    }\n",
       "\n",
       "    .dataframe thead th {\n",
       "        text-align: right;\n",
       "    }\n",
       "</style>\n",
       "<table border=\"1\" class=\"dataframe\">\n",
       "  <thead>\n",
       "    <tr style=\"text-align: right;\">\n",
       "      <th></th>\n",
       "      <th>feature</th>\n",
       "      <th>importance</th>\n",
       "    </tr>\n",
       "  </thead>\n",
       "  <tbody>\n",
       "    <tr>\n",
       "      <th>4</th>\n",
       "      <td>FFMC</td>\n",
       "      <td>0.257603</td>\n",
       "    </tr>\n",
       "    <tr>\n",
       "      <th>6</th>\n",
       "      <td>ISI</td>\n",
       "      <td>0.255746</td>\n",
       "    </tr>\n",
       "    <tr>\n",
       "      <th>5</th>\n",
       "      <td>DMC</td>\n",
       "      <td>0.200441</td>\n",
       "    </tr>\n",
       "    <tr>\n",
       "      <th>3</th>\n",
       "      <td>Rain</td>\n",
       "      <td>0.179859</td>\n",
       "    </tr>\n",
       "    <tr>\n",
       "      <th>0</th>\n",
       "      <td>Temperature</td>\n",
       "      <td>0.057860</td>\n",
       "    </tr>\n",
       "    <tr>\n",
       "      <th>1</th>\n",
       "      <td>RH</td>\n",
       "      <td>0.031868</td>\n",
       "    </tr>\n",
       "    <tr>\n",
       "      <th>7</th>\n",
       "      <td>Region</td>\n",
       "      <td>0.009017</td>\n",
       "    </tr>\n",
       "    <tr>\n",
       "      <th>2</th>\n",
       "      <td>Ws</td>\n",
       "      <td>0.007606</td>\n",
       "    </tr>\n",
       "  </tbody>\n",
       "</table>\n",
       "</div>"
      ],
      "text/plain": [
       "       feature  importance\n",
       "4         FFMC    0.257603\n",
       "6          ISI    0.255746\n",
       "5          DMC    0.200441\n",
       "3         Rain    0.179859\n",
       "0  Temperature    0.057860\n",
       "1           RH    0.031868\n",
       "7       Region    0.009017\n",
       "2           Ws    0.007606"
      ]
     },
     "execution_count": 81,
     "metadata": {},
     "output_type": "execute_result"
    }
   ],
   "source": [
    "feature_importances = Random_xgb.best_estimator_.feature_importances_\n",
    "importance_df = pd.DataFrame({'feature':X_train.columns, 'importance':feature_importances}).sort_values('importance', ascending=False)\n",
    "importance_df"
   ]
  },
  {
   "cell_type": "code",
   "execution_count": 82,
   "id": "2773e28b-0f55-40f1-9f5b-318edd7423f5",
   "metadata": {},
   "outputs": [
    {
     "data": {
      "text/plain": [
       "Text(0, 0.5, 'Features')"
      ]
     },
     "execution_count": 82,
     "metadata": {},
     "output_type": "execute_result"
    },
    {
     "data": {
      "image/png": "[encoded data removed]",
      "text/plain": [
       "<Figure size 1200x600 with 1 Axes>"
      ]
     },
     "metadata": {},
     "output_type": "display_data"
    }
   ],
   "source": [
    "plt.figure(figsize=(12,6))\n",
    "sns.set_style('ticks')\n",
    "ax = sns.barplot(data=importance_df, x='importance', y='feature', ec='black')\n",
    "ax.set_title('Top 10 Important Features', weight='bold', fontsize=15)\n",
    "ax.set_xlabel('Feature Importance %', weight='bold')\n",
    "ax.set_ylabel('Features', weight = 'bold')"
   ]
  },
  {
   "cell_type": "markdown",
   "id": "145256bb-9511-4579-9903-10a1f4414443",
   "metadata": {},
   "source": [
    "### Model Deployment"
   ]
  },
  {
   "cell_type": "code",
   "execution_count": 87,
   "id": "f19fd3b0-cfc8-41c0-af87-147ed358d085",
   "metadata": {},
   "outputs": [
    {
     "data": {
      "text/plain": [
       "((170, 5), (73, 5))"
      ]
     },
     "execution_count": 87,
     "metadata": {},
     "output_type": "execute_result"
    }
   ],
   "source": [
    "Xtrain_new = X_train.drop(['Ws', 'Region','RH'], axis=1)\n",
    "Xtest_new = X_test.drop(['Ws', 'Region','RH'], axis=1)\n",
    "Xtrain_new.shape, Xtest_new.shape"
   ]
  },
  {
   "cell_type": "code",
   "execution_count": 88,
   "id": "a7605f57-47da-4de3-a1f8-9efb69675834",
   "metadata": {},
   "outputs": [],
   "source": [
    "# Ensure both datasets have the same features\n",
    "common_features = Xtrain_new.columns.intersection(Xtest_new.columns)\n",
    "Xtrain_new = Xtrain_new[common_features]\n",
    "Xtest_new = Xtest_new[common_features]\n",
    "\n",
    "# Apply StandardScaler\n",
    "scaler = StandardScaler()\n",
    "Xtrain_new_scaled = scaler.fit_transform(Xtrain_new)\n",
    "Xtest_new_scaled = scaler.transform(Xtest_new)"
   ]
  },
  {
   "cell_type": "code",
   "execution_count": 89,
   "id": "d6995d6b-5fde-490c-b415-aec5a630fa99",
   "metadata": {},
   "outputs": [
    {
     "name": "stdout",
     "output_type": "stream",
     "text": [
      "Final Model XGB\n",
      "Accuracy Score value: 0.9726\n",
      "              precision    recall  f1-score   support\n",
      "\n",
      "           0       0.89      1.00      0.94        25\n",
      "           1       1.00      0.94      0.97        48\n",
      "\n",
      "    accuracy                           0.96        73\n",
      "   macro avg       0.95      0.97      0.96        73\n",
      "weighted avg       0.96      0.96      0.96        73\n",
      "\n"
     ]
    }
   ],
   "source": [
    "xgb_model =Random_xgb.fit(Xtrain_new_scaled, y_train).best_estimator_\n",
    "xgb_model.score(Xtest_new_scaled, y_test)\n",
    "xgb_model_pred = xgb_model.predict(Xtest_new_scaled)\n",
    "cr = classification_report(y_test, xgb_model_pred)\n",
    "print(\"Final Model XGB\")\n",
    "print (\"Accuracy Score value: {:.4f}\".format(score))\n",
    "print (cr)"
   ]
  },
  {
   "cell_type": "code",
   "execution_count": 90,
   "id": "a30573f8-da4b-47ad-931a-4d5ba19c5293",
   "metadata": {},
   "outputs": [
    {
     "data": {
      "text/plain": [
       "InsertManyResult([ObjectId('67a660d1f4dff5989ebaa0f2'), ObjectId('67a660d1f4dff5989ebaa0f3'), ObjectId('67a660d1f4dff5989ebaa0f4'), ObjectId('67a660d1f4dff5989ebaa0f5'), ObjectId('67a660d1f4dff5989ebaa0f6'), ObjectId('67a660d1f4dff5989ebaa0f7'), ObjectId('67a660d1f4dff5989ebaa0f8'), ObjectId('67a660d1f4dff5989ebaa0f9'), ObjectId('67a660d1f4dff5989ebaa0fa'), ObjectId('67a660d1f4dff5989ebaa0fb'), ObjectId('67a660d1f4dff5989ebaa0fc'), ObjectId('67a660d1f4dff5989ebaa0fd'), ObjectId('67a660d1f4dff5989ebaa0fe'), ObjectId('67a660d1f4dff5989ebaa0ff'), ObjectId('67a660d1f4dff5989ebaa100'), ObjectId('67a660d1f4dff5989ebaa101'), ObjectId('67a660d1f4dff5989ebaa102'), ObjectId('67a660d1f4dff5989ebaa103'), ObjectId('67a660d1f4dff5989ebaa104'), ObjectId('67a660d1f4dff5989ebaa105'), ObjectId('67a660d1f4dff5989ebaa106'), ObjectId('67a660d1f4dff5989ebaa107'), ObjectId('67a660d1f4dff5989ebaa108'), ObjectId('67a660d1f4dff5989ebaa109'), ObjectId('67a660d1f4dff5989ebaa10a'), ObjectId('67a660d1f4dff5989ebaa10b'), ObjectId('67a660d1f4dff5989ebaa10c'), ObjectId('67a660d1f4dff5989ebaa10d'), ObjectId('67a660d1f4dff5989ebaa10e'), ObjectId('67a660d1f4dff5989ebaa10f'), ObjectId('67a660d1f4dff5989ebaa110'), ObjectId('67a660d1f4dff5989ebaa111'), ObjectId('67a660d1f4dff5989ebaa112'), ObjectId('67a660d1f4dff5989ebaa113'), ObjectId('67a660d1f4dff5989ebaa114'), ObjectId('67a660d1f4dff5989ebaa115'), ObjectId('67a660d1f4dff5989ebaa116'), ObjectId('67a660d1f4dff5989ebaa117'), ObjectId('67a660d1f4dff5989ebaa118'), ObjectId('67a660d1f4dff5989ebaa119'), ObjectId('67a660d1f4dff5989ebaa11a'), ObjectId('67a660d1f4dff5989ebaa11b'), ObjectId('67a660d1f4dff5989ebaa11c'), ObjectId('67a660d1f4dff5989ebaa11d'), ObjectId('67a660d1f4dff5989ebaa11e'), ObjectId('67a660d1f4dff5989ebaa11f'), ObjectId('67a660d1f4dff5989ebaa120'), ObjectId('67a660d1f4dff5989ebaa121'), ObjectId('67a660d1f4dff5989ebaa122'), ObjectId('67a660d1f4dff5989ebaa123'), ObjectId('67a660d1f4dff5989ebaa124'), ObjectId('67a660d1f4dff5989ebaa125'), ObjectId('67a660d1f4dff5989ebaa126'), ObjectId('67a660d1f4dff5989ebaa127'), ObjectId('67a660d1f4dff5989ebaa128'), ObjectId('67a660d1f4dff5989ebaa129'), ObjectId('67a660d1f4dff5989ebaa12a'), ObjectId('67a660d1f4dff5989ebaa12b'), ObjectId('67a660d1f4dff5989ebaa12c'), ObjectId('67a660d1f4dff5989ebaa12d'), ObjectId('67a660d1f4dff5989ebaa12e'), ObjectId('67a660d1f4dff5989ebaa12f'), ObjectId('67a660d1f4dff5989ebaa130'), ObjectId('67a660d1f4dff5989ebaa131'), ObjectId('67a660d1f4dff5989ebaa132'), ObjectId('67a660d1f4dff5989ebaa133'), ObjectId('67a660d1f4dff5989ebaa134'), ObjectId('67a660d1f4dff5989ebaa135'), ObjectId('67a660d1f4dff5989ebaa136'), ObjectId('67a660d1f4dff5989ebaa137'), ObjectId('67a660d1f4dff5989ebaa138'), ObjectId('67a660d1f4dff5989ebaa139'), ObjectId('67a660d1f4dff5989ebaa13a'), ObjectId('67a660d1f4dff5989ebaa13b'), ObjectId('67a660d1f4dff5989ebaa13c'), ObjectId('67a660d1f4dff5989ebaa13d'), ObjectId('67a660d1f4dff5989ebaa13e'), ObjectId('67a660d1f4dff5989ebaa13f'), ObjectId('67a660d1f4dff5989ebaa140'), ObjectId('67a660d1f4dff5989ebaa141'), ObjectId('67a660d1f4dff5989ebaa142'), ObjectId('67a660d1f4dff5989ebaa143'), ObjectId('67a660d1f4dff5989ebaa144'), ObjectId('67a660d1f4dff5989ebaa145'), ObjectId('67a660d1f4dff5989ebaa146'), ObjectId('67a660d1f4dff5989ebaa147'), ObjectId('67a660d1f4dff5989ebaa148'), ObjectId('67a660d1f4dff5989ebaa149'), ObjectId('67a660d1f4dff5989ebaa14a'), ObjectId('67a660d1f4dff5989ebaa14b'), ObjectId('67a660d1f4dff5989ebaa14c'), ObjectId('67a660d1f4dff5989ebaa14d'), ObjectId('67a660d1f4dff5989ebaa14e'), ObjectId('67a660d1f4dff5989ebaa14f'), ObjectId('67a660d1f4dff5989ebaa150'), ObjectId('67a660d1f4dff5989ebaa151'), ObjectId('67a660d1f4dff5989ebaa152'), ObjectId('67a660d1f4dff5989ebaa153'), ObjectId('67a660d1f4dff5989ebaa154'), ObjectId('67a660d1f4dff5989ebaa155'), ObjectId('67a660d1f4dff5989ebaa156'), ObjectId('67a660d1f4dff5989ebaa157'), ObjectId('67a660d1f4dff5989ebaa158'), ObjectId('67a660d1f4dff5989ebaa159'), ObjectId('67a660d1f4dff5989ebaa15a'), ObjectId('67a660d1f4dff5989ebaa15b'), ObjectId('67a660d1f4dff5989ebaa15c'), ObjectId('67a660d1f4dff5989ebaa15d'), ObjectId('67a660d1f4dff5989ebaa15e'), ObjectId('67a660d1f4dff5989ebaa15f'), ObjectId('67a660d1f4dff5989ebaa160'), ObjectId('67a660d1f4dff5989ebaa161'), ObjectId('67a660d1f4dff5989ebaa162'), ObjectId('67a660d1f4dff5989ebaa163'), ObjectId('67a660d1f4dff5989ebaa164'), ObjectId('67a660d1f4dff5989ebaa165'), ObjectId('67a660d1f4dff5989ebaa166'), ObjectId('67a660d1f4dff5989ebaa167'), ObjectId('67a660d1f4dff5989ebaa168'), ObjectId('67a660d1f4dff5989ebaa169'), ObjectId('67a660d1f4dff5989ebaa16a'), ObjectId('67a660d1f4dff5989ebaa16b'), ObjectId('67a660d1f4dff5989ebaa16c'), ObjectId('67a660d1f4dff5989ebaa16d'), ObjectId('67a660d1f4dff5989ebaa16e'), ObjectId('67a660d1f4dff5989ebaa16f'), ObjectId('67a660d1f4dff5989ebaa170'), ObjectId('67a660d1f4dff5989ebaa171'), ObjectId('67a660d1f4dff5989ebaa172'), ObjectId('67a660d1f4dff5989ebaa173'), ObjectId('67a660d1f4dff5989ebaa174'), ObjectId('67a660d1f4dff5989ebaa175'), ObjectId('67a660d1f4dff5989ebaa176'), ObjectId('67a660d1f4dff5989ebaa177'), ObjectId('67a660d1f4dff5989ebaa178'), ObjectId('67a660d1f4dff5989ebaa179'), ObjectId('67a660d1f4dff5989ebaa17a'), ObjectId('67a660d1f4dff5989ebaa17b'), ObjectId('67a660d1f4dff5989ebaa17c'), ObjectId('67a660d1f4dff5989ebaa17d'), ObjectId('67a660d1f4dff5989ebaa17e'), ObjectId('67a660d1f4dff5989ebaa17f'), ObjectId('67a660d1f4dff5989ebaa180'), ObjectId('67a660d1f4dff5989ebaa181'), ObjectId('67a660d1f4dff5989ebaa182'), ObjectId('67a660d1f4dff5989ebaa183'), ObjectId('67a660d1f4dff5989ebaa184'), ObjectId('67a660d1f4dff5989ebaa185'), ObjectId('67a660d1f4dff5989ebaa186'), ObjectId('67a660d1f4dff5989ebaa187'), ObjectId('67a660d1f4dff5989ebaa188'), ObjectId('67a660d1f4dff5989ebaa189'), ObjectId('67a660d1f4dff5989ebaa18a'), ObjectId('67a660d1f4dff5989ebaa18b'), ObjectId('67a660d1f4dff5989ebaa18c'), ObjectId('67a660d1f4dff5989ebaa18d'), ObjectId('67a660d1f4dff5989ebaa18e'), ObjectId('67a660d1f4dff5989ebaa18f'), ObjectId('67a660d1f4dff5989ebaa190'), ObjectId('67a660d1f4dff5989ebaa191'), ObjectId('67a660d1f4dff5989ebaa192'), ObjectId('67a660d1f4dff5989ebaa193'), ObjectId('67a660d1f4dff5989ebaa194'), ObjectId('67a660d1f4dff5989ebaa195'), ObjectId('67a660d1f4dff5989ebaa196'), ObjectId('67a660d1f4dff5989ebaa197'), ObjectId('67a660d1f4dff5989ebaa198'), ObjectId('67a660d1f4dff5989ebaa199'), ObjectId('67a660d1f4dff5989ebaa19a'), ObjectId('67a660d1f4dff5989ebaa19b'), ObjectId('67a660d1f4dff5989ebaa19c'), ObjectId('67a660d1f4dff5989ebaa19d'), ObjectId('67a660d1f4dff5989ebaa19e'), ObjectId('67a660d1f4dff5989ebaa19f'), ObjectId('67a660d1f4dff5989ebaa1a0'), ObjectId('67a660d1f4dff5989ebaa1a1'), ObjectId('67a660d1f4dff5989ebaa1a2'), ObjectId('67a660d1f4dff5989ebaa1a3'), ObjectId('67a660d1f4dff5989ebaa1a4'), ObjectId('67a660d1f4dff5989ebaa1a5'), ObjectId('67a660d1f4dff5989ebaa1a6'), ObjectId('67a660d1f4dff5989ebaa1a7'), ObjectId('67a660d1f4dff5989ebaa1a8'), ObjectId('67a660d1f4dff5989ebaa1a9'), ObjectId('67a660d1f4dff5989ebaa1aa'), ObjectId('67a660d1f4dff5989ebaa1ab'), ObjectId('67a660d1f4dff5989ebaa1ac'), ObjectId('67a660d1f4dff5989ebaa1ad'), ObjectId('67a660d1f4dff5989ebaa1ae'), ObjectId('67a660d1f4dff5989ebaa1af'), ObjectId('67a660d1f4dff5989ebaa1b0'), ObjectId('67a660d1f4dff5989ebaa1b1'), ObjectId('67a660d1f4dff5989ebaa1b2'), ObjectId('67a660d1f4dff5989ebaa1b3'), ObjectId('67a660d1f4dff5989ebaa1b4'), ObjectId('67a660d1f4dff5989ebaa1b5'), ObjectId('67a660d1f4dff5989ebaa1b6'), ObjectId('67a660d1f4dff5989ebaa1b7'), ObjectId('67a660d1f4dff5989ebaa1b8'), ObjectId('67a660d1f4dff5989ebaa1b9'), ObjectId('67a660d1f4dff5989ebaa1ba'), ObjectId('67a660d1f4dff5989ebaa1bb'), ObjectId('67a660d1f4dff5989ebaa1bc'), ObjectId('67a660d1f4dff5989ebaa1bd'), ObjectId('67a660d1f4dff5989ebaa1be'), ObjectId('67a660d1f4dff5989ebaa1bf'), ObjectId('67a660d1f4dff5989ebaa1c0'), ObjectId('67a660d1f4dff5989ebaa1c1'), ObjectId('67a660d1f4dff5989ebaa1c2'), ObjectId('67a660d1f4dff5989ebaa1c3'), ObjectId('67a660d1f4dff5989ebaa1c4'), ObjectId('67a660d1f4dff5989ebaa1c5'), ObjectId('67a660d1f4dff5989ebaa1c6'), ObjectId('67a660d1f4dff5989ebaa1c7'), ObjectId('67a660d1f4dff5989ebaa1c8'), ObjectId('67a660d1f4dff5989ebaa1c9'), ObjectId('67a660d1f4dff5989ebaa1ca'), ObjectId('67a660d1f4dff5989ebaa1cb'), ObjectId('67a660d1f4dff5989ebaa1cc'), ObjectId('67a660d1f4dff5989ebaa1cd'), ObjectId('67a660d1f4dff5989ebaa1ce'), ObjectId('67a660d1f4dff5989ebaa1cf'), ObjectId('67a660d1f4dff5989ebaa1d0'), ObjectId('67a660d1f4dff5989ebaa1d1'), ObjectId('67a660d1f4dff5989ebaa1d2'), ObjectId('67a660d1f4dff5989ebaa1d3'), ObjectId('67a660d1f4dff5989ebaa1d4'), ObjectId('67a660d1f4dff5989ebaa1d5'), ObjectId('67a660d1f4dff5989ebaa1d6'), ObjectId('67a660d1f4dff5989ebaa1d7'), ObjectId('67a660d1f4dff5989ebaa1d8'), ObjectId('67a660d1f4dff5989ebaa1d9'), ObjectId('67a660d1f4dff5989ebaa1da'), ObjectId('67a660d1f4dff5989ebaa1db'), ObjectId('67a660d1f4dff5989ebaa1dc'), ObjectId('67a660d1f4dff5989ebaa1dd'), ObjectId('67a660d1f4dff5989ebaa1de'), ObjectId('67a660d1f4dff5989ebaa1df'), ObjectId('67a660d1f4dff5989ebaa1e0'), ObjectId('67a660d1f4dff5989ebaa1e1'), ObjectId('67a660d1f4dff5989ebaa1e2'), ObjectId('67a660d1f4dff5989ebaa1e3'), ObjectId('67a660d1f4dff5989ebaa1e4')], acknowledged=True)"
      ]
     },
     "execution_count": 90,
     "metadata": {},
     "output_type": "execute_result"
    }
   ],
   "source": [
    "final_df =df.drop(['BUI','DC','Rain', 'Region','RH'],axis=1)\n",
    "\n",
    "\n",
    "from pymongo import MongoClient\n",
    "# Establish a connection to a MongoDB Atlas Cluster with Secured Authentication using User Name and Password of the Database\n",
    "client = MongoClient(\"mongodb://localhost:27017/y\")\n",
    "# Create Database and specify name of database\n",
    "db = client.get_database('FireDataML')\n",
    "# Create a collection\n",
    "records = db.ml_task\n",
    "\n",
    "data = final_df.to_dict(orient = 'records')\n",
    "db.ml_task.insert_many(data)"
   ]
  },
  {
   "cell_type": "code",
   "execution_count": 91,
   "id": "c9d6e3f1-432a-48d8-bb59-fbfcad0377d2",
   "metadata": {},
   "outputs": [
    {
     "data": {
      "text/html": [
       "<div>\n",
       "<style scoped>\n",
       "    .dataframe tbody tr th:only-of-type {\n",
       "        vertical-align: middle;\n",
       "    }\n",
       "\n",
       "    .dataframe tbody tr th {\n",
       "        vertical-align: top;\n",
       "    }\n",
       "\n",
       "    .dataframe thead th {\n",
       "        text-align: right;\n",
       "    }\n",
       "</style>\n",
       "<table border=\"1\" class=\"dataframe\">\n",
       "  <thead>\n",
       "    <tr style=\"text-align: right;\">\n",
       "      <th></th>\n",
       "      <th>Temperature</th>\n",
       "      <th>Ws</th>\n",
       "      <th>FFMC</th>\n",
       "      <th>DMC</th>\n",
       "      <th>ISI</th>\n",
       "      <th>FWI</th>\n",
       "      <th>Classes</th>\n",
       "    </tr>\n",
       "  </thead>\n",
       "  <tbody>\n",
       "    <tr>\n",
       "      <th>0</th>\n",
       "      <td>29</td>\n",
       "      <td>18</td>\n",
       "      <td>65.7</td>\n",
       "      <td>3.4</td>\n",
       "      <td>1.3</td>\n",
       "      <td>0.5</td>\n",
       "      <td>0</td>\n",
       "    </tr>\n",
       "    <tr>\n",
       "      <th>1</th>\n",
       "      <td>29</td>\n",
       "      <td>13</td>\n",
       "      <td>64.4</td>\n",
       "      <td>4.1</td>\n",
       "      <td>1.0</td>\n",
       "      <td>0.4</td>\n",
       "      <td>0</td>\n",
       "    </tr>\n",
       "    <tr>\n",
       "      <th>2</th>\n",
       "      <td>26</td>\n",
       "      <td>22</td>\n",
       "      <td>47.1</td>\n",
       "      <td>2.5</td>\n",
       "      <td>0.3</td>\n",
       "      <td>0.1</td>\n",
       "      <td>0</td>\n",
       "    </tr>\n",
       "    <tr>\n",
       "      <th>3</th>\n",
       "      <td>25</td>\n",
       "      <td>13</td>\n",
       "      <td>28.6</td>\n",
       "      <td>1.3</td>\n",
       "      <td>0.0</td>\n",
       "      <td>0.0</td>\n",
       "      <td>0</td>\n",
       "    </tr>\n",
       "    <tr>\n",
       "      <th>4</th>\n",
       "      <td>27</td>\n",
       "      <td>16</td>\n",
       "      <td>64.8</td>\n",
       "      <td>3.0</td>\n",
       "      <td>1.2</td>\n",
       "      <td>0.5</td>\n",
       "      <td>0</td>\n",
       "    </tr>\n",
       "    <tr>\n",
       "      <th>...</th>\n",
       "      <td>...</td>\n",
       "      <td>...</td>\n",
       "      <td>...</td>\n",
       "      <td>...</td>\n",
       "      <td>...</td>\n",
       "      <td>...</td>\n",
       "      <td>...</td>\n",
       "    </tr>\n",
       "    <tr>\n",
       "      <th>238</th>\n",
       "      <td>30</td>\n",
       "      <td>14</td>\n",
       "      <td>85.4</td>\n",
       "      <td>16.0</td>\n",
       "      <td>4.5</td>\n",
       "      <td>6.5</td>\n",
       "      <td>1</td>\n",
       "    </tr>\n",
       "    <tr>\n",
       "      <th>239</th>\n",
       "      <td>28</td>\n",
       "      <td>15</td>\n",
       "      <td>41.1</td>\n",
       "      <td>6.5</td>\n",
       "      <td>0.1</td>\n",
       "      <td>0.0</td>\n",
       "      <td>0</td>\n",
       "    </tr>\n",
       "    <tr>\n",
       "      <th>240</th>\n",
       "      <td>27</td>\n",
       "      <td>29</td>\n",
       "      <td>45.9</td>\n",
       "      <td>3.5</td>\n",
       "      <td>0.4</td>\n",
       "      <td>0.2</td>\n",
       "      <td>0</td>\n",
       "    </tr>\n",
       "    <tr>\n",
       "      <th>241</th>\n",
       "      <td>24</td>\n",
       "      <td>18</td>\n",
       "      <td>79.7</td>\n",
       "      <td>4.3</td>\n",
       "      <td>1.7</td>\n",
       "      <td>0.7</td>\n",
       "      <td>0</td>\n",
       "    </tr>\n",
       "    <tr>\n",
       "      <th>242</th>\n",
       "      <td>24</td>\n",
       "      <td>15</td>\n",
       "      <td>67.3</td>\n",
       "      <td>3.8</td>\n",
       "      <td>1.2</td>\n",
       "      <td>0.5</td>\n",
       "      <td>0</td>\n",
       "    </tr>\n",
       "  </tbody>\n",
       "</table>\n",
       "<p>243 rows × 7 columns</p>\n",
       "</div>"
      ],
      "text/plain": [
       "     Temperature  Ws  FFMC   DMC  ISI  FWI  Classes\n",
       "0             29  18  65.7   3.4  1.3  0.5        0\n",
       "1             29  13  64.4   4.1  1.0  0.4        0\n",
       "2             26  22  47.1   2.5  0.3  0.1        0\n",
       "3             25  13  28.6   1.3  0.0  0.0        0\n",
       "4             27  16  64.8   3.0  1.2  0.5        0\n",
       "..           ...  ..   ...   ...  ...  ...      ...\n",
       "238           30  14  85.4  16.0  4.5  6.5        1\n",
       "239           28  15  41.1   6.5  0.1  0.0        0\n",
       "240           27  29  45.9   3.5  0.4  0.2        0\n",
       "241           24  18  79.7   4.3  1.7  0.7        0\n",
       "242           24  15  67.3   3.8  1.2  0.5        0\n",
       "\n",
       "[243 rows x 7 columns]"
      ]
     },
     "execution_count": 91,
     "metadata": {},
     "output_type": "execute_result"
    }
   ],
   "source": [
    "final_df"
   ]
  },
  {
   "cell_type": "code",
   "execution_count": null,
   "id": "58b66d3c-82f2-4ec8-ad2c-ec3a2b53e423",
   "metadata": {},
   "outputs": [],
   "source": []
  }
 ],
 "metadata": {
  "kernelspec": {
   "display_name": "Python 3 (ipykernel)",
   "language": "python",
   "name": "python3"
  },
  "language_info": {
   "codemirror_mode": {
    "name": "ipython",
    "version": 3
   },
   "file_extension": ".py",
   "mimetype": "text/x-python",
   "name": "python",
   "nbconvert_exporter": "python",
   "pygments_lexer": "ipython3",
   "version": "3.11.7"
  }
 },
 "nbformat": 4,
 "nbformat_minor": 5
}
